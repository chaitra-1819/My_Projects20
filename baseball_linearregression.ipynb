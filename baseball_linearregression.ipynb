{
 "cells": [
  {
   "cell_type": "code",
   "execution_count": 5,
   "metadata": {},
   "outputs": [],
   "source": [
    "import pandas as pd\n",
    "dfb=pd.read_csv(\"baseball.csv\")"
   ]
  },
  {
   "cell_type": "code",
   "execution_count": 6,
   "metadata": {},
   "outputs": [
    {
     "data": {
      "text/html": [
       "<div>\n",
       "<style scoped>\n",
       "    .dataframe tbody tr th:only-of-type {\n",
       "        vertical-align: middle;\n",
       "    }\n",
       "\n",
       "    .dataframe tbody tr th {\n",
       "        vertical-align: top;\n",
       "    }\n",
       "\n",
       "    .dataframe thead th {\n",
       "        text-align: right;\n",
       "    }\n",
       "</style>\n",
       "<table border=\"1\" class=\"dataframe\">\n",
       "  <thead>\n",
       "    <tr style=\"text-align: right;\">\n",
       "      <th></th>\n",
       "      <th>W</th>\n",
       "      <th>R</th>\n",
       "      <th>AB</th>\n",
       "      <th>H</th>\n",
       "      <th>2B</th>\n",
       "      <th>3B</th>\n",
       "      <th>HR</th>\n",
       "      <th>BB</th>\n",
       "      <th>SO</th>\n",
       "      <th>SB</th>\n",
       "      <th>RA</th>\n",
       "      <th>ER</th>\n",
       "      <th>ERA</th>\n",
       "      <th>CG</th>\n",
       "      <th>SHO</th>\n",
       "      <th>SV</th>\n",
       "      <th>E</th>\n",
       "    </tr>\n",
       "  </thead>\n",
       "  <tbody>\n",
       "    <tr>\n",
       "      <th>0</th>\n",
       "      <td>95</td>\n",
       "      <td>724</td>\n",
       "      <td>5575</td>\n",
       "      <td>1497</td>\n",
       "      <td>300</td>\n",
       "      <td>42</td>\n",
       "      <td>139</td>\n",
       "      <td>383</td>\n",
       "      <td>973</td>\n",
       "      <td>104</td>\n",
       "      <td>641</td>\n",
       "      <td>601</td>\n",
       "      <td>3.73</td>\n",
       "      <td>2</td>\n",
       "      <td>8</td>\n",
       "      <td>56</td>\n",
       "      <td>88</td>\n",
       "    </tr>\n",
       "    <tr>\n",
       "      <th>1</th>\n",
       "      <td>83</td>\n",
       "      <td>696</td>\n",
       "      <td>5467</td>\n",
       "      <td>1349</td>\n",
       "      <td>277</td>\n",
       "      <td>44</td>\n",
       "      <td>156</td>\n",
       "      <td>439</td>\n",
       "      <td>1264</td>\n",
       "      <td>70</td>\n",
       "      <td>700</td>\n",
       "      <td>653</td>\n",
       "      <td>4.07</td>\n",
       "      <td>2</td>\n",
       "      <td>12</td>\n",
       "      <td>45</td>\n",
       "      <td>86</td>\n",
       "    </tr>\n",
       "    <tr>\n",
       "      <th>2</th>\n",
       "      <td>81</td>\n",
       "      <td>669</td>\n",
       "      <td>5439</td>\n",
       "      <td>1395</td>\n",
       "      <td>303</td>\n",
       "      <td>29</td>\n",
       "      <td>141</td>\n",
       "      <td>533</td>\n",
       "      <td>1157</td>\n",
       "      <td>86</td>\n",
       "      <td>640</td>\n",
       "      <td>584</td>\n",
       "      <td>3.67</td>\n",
       "      <td>11</td>\n",
       "      <td>10</td>\n",
       "      <td>38</td>\n",
       "      <td>79</td>\n",
       "    </tr>\n",
       "    <tr>\n",
       "      <th>3</th>\n",
       "      <td>76</td>\n",
       "      <td>622</td>\n",
       "      <td>5533</td>\n",
       "      <td>1381</td>\n",
       "      <td>260</td>\n",
       "      <td>27</td>\n",
       "      <td>136</td>\n",
       "      <td>404</td>\n",
       "      <td>1231</td>\n",
       "      <td>68</td>\n",
       "      <td>701</td>\n",
       "      <td>643</td>\n",
       "      <td>3.98</td>\n",
       "      <td>7</td>\n",
       "      <td>9</td>\n",
       "      <td>37</td>\n",
       "      <td>101</td>\n",
       "    </tr>\n",
       "    <tr>\n",
       "      <th>4</th>\n",
       "      <td>74</td>\n",
       "      <td>689</td>\n",
       "      <td>5605</td>\n",
       "      <td>1515</td>\n",
       "      <td>289</td>\n",
       "      <td>49</td>\n",
       "      <td>151</td>\n",
       "      <td>455</td>\n",
       "      <td>1259</td>\n",
       "      <td>83</td>\n",
       "      <td>803</td>\n",
       "      <td>746</td>\n",
       "      <td>4.64</td>\n",
       "      <td>7</td>\n",
       "      <td>12</td>\n",
       "      <td>35</td>\n",
       "      <td>86</td>\n",
       "    </tr>\n",
       "  </tbody>\n",
       "</table>\n",
       "</div>"
      ],
      "text/plain": [
       "    W    R    AB     H   2B  3B   HR   BB    SO   SB   RA   ER   ERA  CG  SHO  \\\n",
       "0  95  724  5575  1497  300  42  139  383   973  104  641  601  3.73   2    8   \n",
       "1  83  696  5467  1349  277  44  156  439  1264   70  700  653  4.07   2   12   \n",
       "2  81  669  5439  1395  303  29  141  533  1157   86  640  584  3.67  11   10   \n",
       "3  76  622  5533  1381  260  27  136  404  1231   68  701  643  3.98   7    9   \n",
       "4  74  689  5605  1515  289  49  151  455  1259   83  803  746  4.64   7   12   \n",
       "\n",
       "   SV    E  \n",
       "0  56   88  \n",
       "1  45   86  \n",
       "2  38   79  \n",
       "3  37  101  \n",
       "4  35   86  "
      ]
     },
     "execution_count": 6,
     "metadata": {},
     "output_type": "execute_result"
    }
   ],
   "source": [
    "dfb.head()"
   ]
  },
  {
   "cell_type": "code",
   "execution_count": 7,
   "metadata": {},
   "outputs": [],
   "source": [
    "#Changing the column names\n",
    "dfb.columns=[\"Predicted wins\",\"Runs\",\"At Bats\",\"Hits\",\"Doubles\",\"Triples\",\"homeruns\",\"Walks\",\"Strikeouts\",\"Stolen bases\",\"Runs allowed\",\"Earned Runs\",\"EarnedRunavg\",\"CG\",\"Shutouts\",\"Saves\",\"Errors\"]"
   ]
  },
  {
   "cell_type": "code",
   "execution_count": 8,
   "metadata": {},
   "outputs": [
    {
     "data": {
      "text/html": [
       "<div>\n",
       "<style scoped>\n",
       "    .dataframe tbody tr th:only-of-type {\n",
       "        vertical-align: middle;\n",
       "    }\n",
       "\n",
       "    .dataframe tbody tr th {\n",
       "        vertical-align: top;\n",
       "    }\n",
       "\n",
       "    .dataframe thead th {\n",
       "        text-align: right;\n",
       "    }\n",
       "</style>\n",
       "<table border=\"1\" class=\"dataframe\">\n",
       "  <thead>\n",
       "    <tr style=\"text-align: right;\">\n",
       "      <th></th>\n",
       "      <th>Predicted wins</th>\n",
       "      <th>Runs</th>\n",
       "      <th>At Bats</th>\n",
       "      <th>Hits</th>\n",
       "      <th>Doubles</th>\n",
       "      <th>Triples</th>\n",
       "      <th>homeruns</th>\n",
       "      <th>Walks</th>\n",
       "      <th>Strikeouts</th>\n",
       "      <th>Stolen bases</th>\n",
       "      <th>Runs allowed</th>\n",
       "      <th>Earned Runs</th>\n",
       "      <th>EarnedRunavg</th>\n",
       "      <th>CG</th>\n",
       "      <th>Shutouts</th>\n",
       "      <th>Saves</th>\n",
       "      <th>Errors</th>\n",
       "    </tr>\n",
       "  </thead>\n",
       "  <tbody>\n",
       "    <tr>\n",
       "      <th>0</th>\n",
       "      <td>95</td>\n",
       "      <td>724</td>\n",
       "      <td>5575</td>\n",
       "      <td>1497</td>\n",
       "      <td>300</td>\n",
       "      <td>42</td>\n",
       "      <td>139</td>\n",
       "      <td>383</td>\n",
       "      <td>973</td>\n",
       "      <td>104</td>\n",
       "      <td>641</td>\n",
       "      <td>601</td>\n",
       "      <td>3.73</td>\n",
       "      <td>2</td>\n",
       "      <td>8</td>\n",
       "      <td>56</td>\n",
       "      <td>88</td>\n",
       "    </tr>\n",
       "    <tr>\n",
       "      <th>1</th>\n",
       "      <td>83</td>\n",
       "      <td>696</td>\n",
       "      <td>5467</td>\n",
       "      <td>1349</td>\n",
       "      <td>277</td>\n",
       "      <td>44</td>\n",
       "      <td>156</td>\n",
       "      <td>439</td>\n",
       "      <td>1264</td>\n",
       "      <td>70</td>\n",
       "      <td>700</td>\n",
       "      <td>653</td>\n",
       "      <td>4.07</td>\n",
       "      <td>2</td>\n",
       "      <td>12</td>\n",
       "      <td>45</td>\n",
       "      <td>86</td>\n",
       "    </tr>\n",
       "    <tr>\n",
       "      <th>2</th>\n",
       "      <td>81</td>\n",
       "      <td>669</td>\n",
       "      <td>5439</td>\n",
       "      <td>1395</td>\n",
       "      <td>303</td>\n",
       "      <td>29</td>\n",
       "      <td>141</td>\n",
       "      <td>533</td>\n",
       "      <td>1157</td>\n",
       "      <td>86</td>\n",
       "      <td>640</td>\n",
       "      <td>584</td>\n",
       "      <td>3.67</td>\n",
       "      <td>11</td>\n",
       "      <td>10</td>\n",
       "      <td>38</td>\n",
       "      <td>79</td>\n",
       "    </tr>\n",
       "    <tr>\n",
       "      <th>3</th>\n",
       "      <td>76</td>\n",
       "      <td>622</td>\n",
       "      <td>5533</td>\n",
       "      <td>1381</td>\n",
       "      <td>260</td>\n",
       "      <td>27</td>\n",
       "      <td>136</td>\n",
       "      <td>404</td>\n",
       "      <td>1231</td>\n",
       "      <td>68</td>\n",
       "      <td>701</td>\n",
       "      <td>643</td>\n",
       "      <td>3.98</td>\n",
       "      <td>7</td>\n",
       "      <td>9</td>\n",
       "      <td>37</td>\n",
       "      <td>101</td>\n",
       "    </tr>\n",
       "    <tr>\n",
       "      <th>4</th>\n",
       "      <td>74</td>\n",
       "      <td>689</td>\n",
       "      <td>5605</td>\n",
       "      <td>1515</td>\n",
       "      <td>289</td>\n",
       "      <td>49</td>\n",
       "      <td>151</td>\n",
       "      <td>455</td>\n",
       "      <td>1259</td>\n",
       "      <td>83</td>\n",
       "      <td>803</td>\n",
       "      <td>746</td>\n",
       "      <td>4.64</td>\n",
       "      <td>7</td>\n",
       "      <td>12</td>\n",
       "      <td>35</td>\n",
       "      <td>86</td>\n",
       "    </tr>\n",
       "  </tbody>\n",
       "</table>\n",
       "</div>"
      ],
      "text/plain": [
       "   Predicted wins  Runs  At Bats  Hits  Doubles  Triples  homeruns  Walks  \\\n",
       "0              95   724     5575  1497      300       42       139    383   \n",
       "1              83   696     5467  1349      277       44       156    439   \n",
       "2              81   669     5439  1395      303       29       141    533   \n",
       "3              76   622     5533  1381      260       27       136    404   \n",
       "4              74   689     5605  1515      289       49       151    455   \n",
       "\n",
       "   Strikeouts  Stolen bases  Runs allowed  Earned Runs  EarnedRunavg  CG  \\\n",
       "0         973           104           641          601          3.73   2   \n",
       "1        1264            70           700          653          4.07   2   \n",
       "2        1157            86           640          584          3.67  11   \n",
       "3        1231            68           701          643          3.98   7   \n",
       "4        1259            83           803          746          4.64   7   \n",
       "\n",
       "   Shutouts  Saves  Errors  \n",
       "0         8     56      88  \n",
       "1        12     45      86  \n",
       "2        10     38      79  \n",
       "3         9     37     101  \n",
       "4        12     35      86  "
      ]
     },
     "execution_count": 8,
     "metadata": {},
     "output_type": "execute_result"
    }
   ],
   "source": [
    "dfb.head()"
   ]
  },
  {
   "cell_type": "code",
   "execution_count": 9,
   "metadata": {},
   "outputs": [
    {
     "data": {
      "text/plain": [
       "Predicted wins      int64\n",
       "Runs                int64\n",
       "At Bats             int64\n",
       "Hits                int64\n",
       "Doubles             int64\n",
       "Triples             int64\n",
       "homeruns            int64\n",
       "Walks               int64\n",
       "Strikeouts          int64\n",
       "Stolen bases        int64\n",
       "Runs allowed        int64\n",
       "Earned Runs         int64\n",
       "EarnedRunavg      float64\n",
       "CG                  int64\n",
       "Shutouts            int64\n",
       "Saves               int64\n",
       "Errors              int64\n",
       "dtype: object"
      ]
     },
     "execution_count": 9,
     "metadata": {},
     "output_type": "execute_result"
    }
   ],
   "source": [
    "#Checking the datatypes of each column\n",
    "dfb.dtypes\n"
   ]
  },
  {
   "cell_type": "code",
   "execution_count": 10,
   "metadata": {},
   "outputs": [
    {
     "data": {
      "text/plain": [
       "Predicted wins    0\n",
       "Runs              0\n",
       "At Bats           0\n",
       "Hits              0\n",
       "Doubles           0\n",
       "Triples           0\n",
       "homeruns          0\n",
       "Walks             0\n",
       "Strikeouts        0\n",
       "Stolen bases      0\n",
       "Runs allowed      0\n",
       "Earned Runs       0\n",
       "EarnedRunavg      0\n",
       "CG                0\n",
       "Shutouts          0\n",
       "Saves             0\n",
       "Errors            0\n",
       "dtype: int64"
      ]
     },
     "execution_count": 10,
     "metadata": {},
     "output_type": "execute_result"
    }
   ],
   "source": [
    "#Checking null values\n",
    "dfb.isnull().sum()"
   ]
  },
  {
   "cell_type": "code",
   "execution_count": 11,
   "metadata": {},
   "outputs": [
    {
     "data": {
      "text/plain": [
       "(30, 17)"
      ]
     },
     "execution_count": 11,
     "metadata": {},
     "output_type": "execute_result"
    }
   ],
   "source": [
    "#Checking the shape - rows and columns present in dataset\n",
    "dfb.shape"
   ]
  },
  {
   "cell_type": "code",
   "execution_count": 12,
   "metadata": {},
   "outputs": [
    {
     "data": {
      "text/plain": [
       "<matplotlib.axes._subplots.AxesSubplot at 0x274e7b19dc8>"
      ]
     },
     "execution_count": 12,
     "metadata": {},
     "output_type": "execute_result"
    },
    {
     "data": {
      "image/png": "[encoded data removed]",
      "text/plain": [
       "<Figure size 432x288 with 2 Axes>"
      ]
     },
     "metadata": {
      "needs_background": "light"
     },
     "output_type": "display_data"
    }
   ],
   "source": [
    "#Using heatmap for null values\n",
    "import seaborn as sns\n",
    "sns.heatmap(dfb.isnull())"
   ]
  },
  {
   "cell_type": "code",
   "execution_count": 13,
   "metadata": {},
   "outputs": [
    {
     "data": {
      "text/html": [
       "<div>\n",
       "<style scoped>\n",
       "    .dataframe tbody tr th:only-of-type {\n",
       "        vertical-align: middle;\n",
       "    }\n",
       "\n",
       "    .dataframe tbody tr th {\n",
       "        vertical-align: top;\n",
       "    }\n",
       "\n",
       "    .dataframe thead th {\n",
       "        text-align: right;\n",
       "    }\n",
       "</style>\n",
       "<table border=\"1\" class=\"dataframe\">\n",
       "  <thead>\n",
       "    <tr style=\"text-align: right;\">\n",
       "      <th></th>\n",
       "      <th>Predicted wins</th>\n",
       "      <th>Runs</th>\n",
       "      <th>At Bats</th>\n",
       "      <th>Hits</th>\n",
       "      <th>Doubles</th>\n",
       "      <th>Triples</th>\n",
       "      <th>homeruns</th>\n",
       "      <th>Walks</th>\n",
       "      <th>Strikeouts</th>\n",
       "      <th>Stolen bases</th>\n",
       "      <th>Runs allowed</th>\n",
       "      <th>Earned Runs</th>\n",
       "      <th>EarnedRunavg</th>\n",
       "      <th>CG</th>\n",
       "      <th>Shutouts</th>\n",
       "      <th>Saves</th>\n",
       "      <th>Errors</th>\n",
       "    </tr>\n",
       "  </thead>\n",
       "  <tbody>\n",
       "    <tr>\n",
       "      <th>count</th>\n",
       "      <td>30.000000</td>\n",
       "      <td>30.000000</td>\n",
       "      <td>30.000000</td>\n",
       "      <td>30.000000</td>\n",
       "      <td>30.000000</td>\n",
       "      <td>30.000000</td>\n",
       "      <td>30.000000</td>\n",
       "      <td>30.000000</td>\n",
       "      <td>30.00000</td>\n",
       "      <td>30.000000</td>\n",
       "      <td>30.000000</td>\n",
       "      <td>30.000000</td>\n",
       "      <td>30.000000</td>\n",
       "      <td>30.000000</td>\n",
       "      <td>30.000000</td>\n",
       "      <td>30.000000</td>\n",
       "      <td>30.000000</td>\n",
       "    </tr>\n",
       "    <tr>\n",
       "      <th>mean</th>\n",
       "      <td>80.966667</td>\n",
       "      <td>688.233333</td>\n",
       "      <td>5516.266667</td>\n",
       "      <td>1403.533333</td>\n",
       "      <td>274.733333</td>\n",
       "      <td>31.300000</td>\n",
       "      <td>163.633333</td>\n",
       "      <td>469.100000</td>\n",
       "      <td>1248.20000</td>\n",
       "      <td>83.500000</td>\n",
       "      <td>688.233333</td>\n",
       "      <td>635.833333</td>\n",
       "      <td>3.956333</td>\n",
       "      <td>3.466667</td>\n",
       "      <td>11.300000</td>\n",
       "      <td>43.066667</td>\n",
       "      <td>94.333333</td>\n",
       "    </tr>\n",
       "    <tr>\n",
       "      <th>std</th>\n",
       "      <td>10.453455</td>\n",
       "      <td>58.761754</td>\n",
       "      <td>70.467372</td>\n",
       "      <td>57.140923</td>\n",
       "      <td>18.095405</td>\n",
       "      <td>10.452355</td>\n",
       "      <td>31.823309</td>\n",
       "      <td>57.053725</td>\n",
       "      <td>103.75947</td>\n",
       "      <td>22.815225</td>\n",
       "      <td>72.108005</td>\n",
       "      <td>70.140786</td>\n",
       "      <td>0.454089</td>\n",
       "      <td>2.763473</td>\n",
       "      <td>4.120177</td>\n",
       "      <td>7.869335</td>\n",
       "      <td>13.958889</td>\n",
       "    </tr>\n",
       "    <tr>\n",
       "      <th>min</th>\n",
       "      <td>63.000000</td>\n",
       "      <td>573.000000</td>\n",
       "      <td>5385.000000</td>\n",
       "      <td>1324.000000</td>\n",
       "      <td>236.000000</td>\n",
       "      <td>13.000000</td>\n",
       "      <td>100.000000</td>\n",
       "      <td>375.000000</td>\n",
       "      <td>973.00000</td>\n",
       "      <td>44.000000</td>\n",
       "      <td>525.000000</td>\n",
       "      <td>478.000000</td>\n",
       "      <td>2.940000</td>\n",
       "      <td>0.000000</td>\n",
       "      <td>4.000000</td>\n",
       "      <td>28.000000</td>\n",
       "      <td>75.000000</td>\n",
       "    </tr>\n",
       "    <tr>\n",
       "      <th>25%</th>\n",
       "      <td>74.000000</td>\n",
       "      <td>651.250000</td>\n",
       "      <td>5464.000000</td>\n",
       "      <td>1363.000000</td>\n",
       "      <td>262.250000</td>\n",
       "      <td>23.000000</td>\n",
       "      <td>140.250000</td>\n",
       "      <td>428.250000</td>\n",
       "      <td>1157.50000</td>\n",
       "      <td>69.000000</td>\n",
       "      <td>636.250000</td>\n",
       "      <td>587.250000</td>\n",
       "      <td>3.682500</td>\n",
       "      <td>1.000000</td>\n",
       "      <td>9.000000</td>\n",
       "      <td>37.250000</td>\n",
       "      <td>86.000000</td>\n",
       "    </tr>\n",
       "    <tr>\n",
       "      <th>50%</th>\n",
       "      <td>81.000000</td>\n",
       "      <td>689.000000</td>\n",
       "      <td>5510.000000</td>\n",
       "      <td>1382.500000</td>\n",
       "      <td>275.500000</td>\n",
       "      <td>31.000000</td>\n",
       "      <td>158.500000</td>\n",
       "      <td>473.000000</td>\n",
       "      <td>1261.50000</td>\n",
       "      <td>83.500000</td>\n",
       "      <td>695.500000</td>\n",
       "      <td>644.500000</td>\n",
       "      <td>4.025000</td>\n",
       "      <td>3.000000</td>\n",
       "      <td>12.000000</td>\n",
       "      <td>42.000000</td>\n",
       "      <td>91.000000</td>\n",
       "    </tr>\n",
       "    <tr>\n",
       "      <th>75%</th>\n",
       "      <td>87.750000</td>\n",
       "      <td>718.250000</td>\n",
       "      <td>5570.000000</td>\n",
       "      <td>1451.500000</td>\n",
       "      <td>288.750000</td>\n",
       "      <td>39.000000</td>\n",
       "      <td>177.000000</td>\n",
       "      <td>501.250000</td>\n",
       "      <td>1311.50000</td>\n",
       "      <td>96.500000</td>\n",
       "      <td>732.500000</td>\n",
       "      <td>679.250000</td>\n",
       "      <td>4.220000</td>\n",
       "      <td>5.750000</td>\n",
       "      <td>13.000000</td>\n",
       "      <td>46.750000</td>\n",
       "      <td>96.750000</td>\n",
       "    </tr>\n",
       "    <tr>\n",
       "      <th>max</th>\n",
       "      <td>100.000000</td>\n",
       "      <td>891.000000</td>\n",
       "      <td>5649.000000</td>\n",
       "      <td>1515.000000</td>\n",
       "      <td>308.000000</td>\n",
       "      <td>49.000000</td>\n",
       "      <td>232.000000</td>\n",
       "      <td>570.000000</td>\n",
       "      <td>1518.00000</td>\n",
       "      <td>134.000000</td>\n",
       "      <td>844.000000</td>\n",
       "      <td>799.000000</td>\n",
       "      <td>5.040000</td>\n",
       "      <td>11.000000</td>\n",
       "      <td>21.000000</td>\n",
       "      <td>62.000000</td>\n",
       "      <td>126.000000</td>\n",
       "    </tr>\n",
       "  </tbody>\n",
       "</table>\n",
       "</div>"
      ],
      "text/plain": [
       "       Predicted wins        Runs      At Bats         Hits     Doubles  \\\n",
       "count       30.000000   30.000000    30.000000    30.000000   30.000000   \n",
       "mean        80.966667  688.233333  5516.266667  1403.533333  274.733333   \n",
       "std         10.453455   58.761754    70.467372    57.140923   18.095405   \n",
       "min         63.000000  573.000000  5385.000000  1324.000000  236.000000   \n",
       "25%         74.000000  651.250000  5464.000000  1363.000000  262.250000   \n",
       "50%         81.000000  689.000000  5510.000000  1382.500000  275.500000   \n",
       "75%         87.750000  718.250000  5570.000000  1451.500000  288.750000   \n",
       "max        100.000000  891.000000  5649.000000  1515.000000  308.000000   \n",
       "\n",
       "         Triples    homeruns       Walks  Strikeouts  Stolen bases  \\\n",
       "count  30.000000   30.000000   30.000000    30.00000     30.000000   \n",
       "mean   31.300000  163.633333  469.100000  1248.20000     83.500000   \n",
       "std    10.452355   31.823309   57.053725   103.75947     22.815225   \n",
       "min    13.000000  100.000000  375.000000   973.00000     44.000000   \n",
       "25%    23.000000  140.250000  428.250000  1157.50000     69.000000   \n",
       "50%    31.000000  158.500000  473.000000  1261.50000     83.500000   \n",
       "75%    39.000000  177.000000  501.250000  1311.50000     96.500000   \n",
       "max    49.000000  232.000000  570.000000  1518.00000    134.000000   \n",
       "\n",
       "       Runs allowed  Earned Runs  EarnedRunavg         CG   Shutouts  \\\n",
       "count     30.000000    30.000000     30.000000  30.000000  30.000000   \n",
       "mean     688.233333   635.833333      3.956333   3.466667  11.300000   \n",
       "std       72.108005    70.140786      0.454089   2.763473   4.120177   \n",
       "min      525.000000   478.000000      2.940000   0.000000   4.000000   \n",
       "25%      636.250000   587.250000      3.682500   1.000000   9.000000   \n",
       "50%      695.500000   644.500000      4.025000   3.000000  12.000000   \n",
       "75%      732.500000   679.250000      4.220000   5.750000  13.000000   \n",
       "max      844.000000   799.000000      5.040000  11.000000  21.000000   \n",
       "\n",
       "           Saves      Errors  \n",
       "count  30.000000   30.000000  \n",
       "mean   43.066667   94.333333  \n",
       "std     7.869335   13.958889  \n",
       "min    28.000000   75.000000  \n",
       "25%    37.250000   86.000000  \n",
       "50%    42.000000   91.000000  \n",
       "75%    46.750000   96.750000  \n",
       "max    62.000000  126.000000  "
      ]
     },
     "execution_count": 13,
     "metadata": {},
     "output_type": "execute_result"
    }
   ],
   "source": [
    "#Describing the dataset to check variation between min and max values\n",
    "dfb.describe()"
   ]
  },
  {
   "cell_type": "code",
   "execution_count": 15,
   "metadata": {},
   "outputs": [
    {
     "data": {
      "image/png": "[encoded data removed]",
      "text/plain": [
       "<Figure size 720x864 with 2 Axes>"
      ]
     },
     "metadata": {
      "needs_background": "light"
     },
     "output_type": "display_data"
    }
   ],
   "source": [
    "#Checking correlation\n",
    "import matplotlib.pyplot as plt\n",
    "corr_hmap=dfb.corr()\n",
    "plt.figure(figsize=(10,12))\n",
    "sns.heatmap(corr_hmap,annot=True)\n",
    "plt.show()"
   ]
  },
  {
   "cell_type": "code",
   "execution_count": 16,
   "metadata": {},
   "outputs": [
    {
     "data": {
      "text/plain": [
       "<matplotlib.axes._subplots.AxesSubplot at 0x274e8ce77c8>"
      ]
     },
     "execution_count": 16,
     "metadata": {},
     "output_type": "execute_result"
    },
    {
     "data": {
      "image/png": "[encoded data removed]",
      "text/plain": [
       "<Figure size 432x288 with 1 Axes>"
      ]
     },
     "metadata": {
      "needs_background": "light"
     },
     "output_type": "display_data"
    }
   ],
   "source": [
    "sns.lineplot(x=\"Runs allowed\",y=\"Predicted wins\",data=dfb)"
   ]
  },
  {
   "cell_type": "code",
   "execution_count": 17,
   "metadata": {},
   "outputs": [
    {
     "data": {
      "text/plain": [
       "<matplotlib.axes._subplots.AxesSubplot at 0x274e79f8088>"
      ]
     },
     "execution_count": 17,
     "metadata": {},
     "output_type": "execute_result"
    },
    {
     "data": {
      "image/png": "[encoded data removed]",
      "text/plain": [
       "<Figure size 432x288 with 1 Axes>"
      ]
     },
     "metadata": {
      "needs_background": "light"
     },
     "output_type": "display_data"
    }
   ],
   "source": [
    "sns.lineplot(x=\"Earned Runs\",y=\"Predicted wins\",data=dfb)"
   ]
  },
  {
   "cell_type": "code",
   "execution_count": 18,
   "metadata": {},
   "outputs": [
    {
     "data": {
      "text/plain": [
       "<matplotlib.axes._subplots.AxesSubplot at 0x274e87eab88>"
      ]
     },
     "execution_count": 18,
     "metadata": {},
     "output_type": "execute_result"
    },
    {
     "data": {
      "image/png": "[encoded data removed]",
      "text/plain": [
       "<Figure size 432x288 with 1 Axes>"
      ]
     },
     "metadata": {
      "needs_background": "light"
     },
     "output_type": "display_data"
    }
   ],
   "source": [
    "sns.lineplot(x=\"EarnedRunavg\",y=\"Predicted wins\",data=dfb)"
   ]
  },
  {
   "cell_type": "code",
   "execution_count": 19,
   "metadata": {},
   "outputs": [],
   "source": [
    "#Since these values are more negatively correlating we will drop these columns\n",
    "dfb.drop(\"Runs allowed\",axis=1,inplace=True)\n",
    "dfb.drop(\"Earned Runs\",axis=1,inplace=True)\n",
    "dfb.drop(\"EarnedRunavg\",axis=1,inplace=True)"
   ]
  },
  {
   "cell_type": "code",
   "execution_count": 20,
   "metadata": {},
   "outputs": [
    {
     "data": {
      "text/html": [
       "<div>\n",
       "<style scoped>\n",
       "    .dataframe tbody tr th:only-of-type {\n",
       "        vertical-align: middle;\n",
       "    }\n",
       "\n",
       "    .dataframe tbody tr th {\n",
       "        vertical-align: top;\n",
       "    }\n",
       "\n",
       "    .dataframe thead th {\n",
       "        text-align: right;\n",
       "    }\n",
       "</style>\n",
       "<table border=\"1\" class=\"dataframe\">\n",
       "  <thead>\n",
       "    <tr style=\"text-align: right;\">\n",
       "      <th></th>\n",
       "      <th>Predicted wins</th>\n",
       "      <th>Runs</th>\n",
       "      <th>At Bats</th>\n",
       "      <th>Hits</th>\n",
       "      <th>Doubles</th>\n",
       "      <th>Triples</th>\n",
       "      <th>homeruns</th>\n",
       "      <th>Walks</th>\n",
       "      <th>Strikeouts</th>\n",
       "      <th>Stolen bases</th>\n",
       "      <th>CG</th>\n",
       "      <th>Shutouts</th>\n",
       "      <th>Saves</th>\n",
       "      <th>Errors</th>\n",
       "    </tr>\n",
       "  </thead>\n",
       "  <tbody>\n",
       "    <tr>\n",
       "      <th>0</th>\n",
       "      <td>95</td>\n",
       "      <td>724</td>\n",
       "      <td>5575</td>\n",
       "      <td>1497</td>\n",
       "      <td>300</td>\n",
       "      <td>42</td>\n",
       "      <td>139</td>\n",
       "      <td>383</td>\n",
       "      <td>973</td>\n",
       "      <td>104</td>\n",
       "      <td>2</td>\n",
       "      <td>8</td>\n",
       "      <td>56</td>\n",
       "      <td>88</td>\n",
       "    </tr>\n",
       "    <tr>\n",
       "      <th>1</th>\n",
       "      <td>83</td>\n",
       "      <td>696</td>\n",
       "      <td>5467</td>\n",
       "      <td>1349</td>\n",
       "      <td>277</td>\n",
       "      <td>44</td>\n",
       "      <td>156</td>\n",
       "      <td>439</td>\n",
       "      <td>1264</td>\n",
       "      <td>70</td>\n",
       "      <td>2</td>\n",
       "      <td>12</td>\n",
       "      <td>45</td>\n",
       "      <td>86</td>\n",
       "    </tr>\n",
       "    <tr>\n",
       "      <th>2</th>\n",
       "      <td>81</td>\n",
       "      <td>669</td>\n",
       "      <td>5439</td>\n",
       "      <td>1395</td>\n",
       "      <td>303</td>\n",
       "      <td>29</td>\n",
       "      <td>141</td>\n",
       "      <td>533</td>\n",
       "      <td>1157</td>\n",
       "      <td>86</td>\n",
       "      <td>11</td>\n",
       "      <td>10</td>\n",
       "      <td>38</td>\n",
       "      <td>79</td>\n",
       "    </tr>\n",
       "    <tr>\n",
       "      <th>3</th>\n",
       "      <td>76</td>\n",
       "      <td>622</td>\n",
       "      <td>5533</td>\n",
       "      <td>1381</td>\n",
       "      <td>260</td>\n",
       "      <td>27</td>\n",
       "      <td>136</td>\n",
       "      <td>404</td>\n",
       "      <td>1231</td>\n",
       "      <td>68</td>\n",
       "      <td>7</td>\n",
       "      <td>9</td>\n",
       "      <td>37</td>\n",
       "      <td>101</td>\n",
       "    </tr>\n",
       "    <tr>\n",
       "      <th>4</th>\n",
       "      <td>74</td>\n",
       "      <td>689</td>\n",
       "      <td>5605</td>\n",
       "      <td>1515</td>\n",
       "      <td>289</td>\n",
       "      <td>49</td>\n",
       "      <td>151</td>\n",
       "      <td>455</td>\n",
       "      <td>1259</td>\n",
       "      <td>83</td>\n",
       "      <td>7</td>\n",
       "      <td>12</td>\n",
       "      <td>35</td>\n",
       "      <td>86</td>\n",
       "    </tr>\n",
       "  </tbody>\n",
       "</table>\n",
       "</div>"
      ],
      "text/plain": [
       "   Predicted wins  Runs  At Bats  Hits  Doubles  Triples  homeruns  Walks  \\\n",
       "0              95   724     5575  1497      300       42       139    383   \n",
       "1              83   696     5467  1349      277       44       156    439   \n",
       "2              81   669     5439  1395      303       29       141    533   \n",
       "3              76   622     5533  1381      260       27       136    404   \n",
       "4              74   689     5605  1515      289       49       151    455   \n",
       "\n",
       "   Strikeouts  Stolen bases  CG  Shutouts  Saves  Errors  \n",
       "0         973           104   2         8     56      88  \n",
       "1        1264            70   2        12     45      86  \n",
       "2        1157            86  11        10     38      79  \n",
       "3        1231            68   7         9     37     101  \n",
       "4        1259            83   7        12     35      86  "
      ]
     },
     "execution_count": 20,
     "metadata": {},
     "output_type": "execute_result"
    }
   ],
   "source": [
    "dfb.head()"
   ]
  },
  {
   "cell_type": "code",
   "execution_count": 21,
   "metadata": {},
   "outputs": [
    {
     "data": {
      "text/plain": [
       "Predicted wins       AxesSubplot(0.125,0.772143;0.0945122x0.107857)\n",
       "Runs              AxesSubplot(0.238415,0.772143;0.0945122x0.107857)\n",
       "At Bats           AxesSubplot(0.351829,0.772143;0.0945122x0.107857)\n",
       "Hits              AxesSubplot(0.465244,0.772143;0.0945122x0.107857)\n",
       "Doubles           AxesSubplot(0.578659,0.772143;0.0945122x0.107857)\n",
       "Triples           AxesSubplot(0.692073,0.772143;0.0945122x0.107857)\n",
       "homeruns          AxesSubplot(0.805488,0.772143;0.0945122x0.107857)\n",
       "Walks                AxesSubplot(0.125,0.642714;0.0945122x0.107857)\n",
       "Strikeouts        AxesSubplot(0.238415,0.642714;0.0945122x0.107857)\n",
       "Stolen bases      AxesSubplot(0.351829,0.642714;0.0945122x0.107857)\n",
       "CG                AxesSubplot(0.465244,0.642714;0.0945122x0.107857)\n",
       "Shutouts          AxesSubplot(0.578659,0.642714;0.0945122x0.107857)\n",
       "Saves             AxesSubplot(0.692073,0.642714;0.0945122x0.107857)\n",
       "Errors            AxesSubplot(0.805488,0.642714;0.0945122x0.107857)\n",
       "dtype: object"
      ]
     },
     "execution_count": 21,
     "metadata": {},
     "output_type": "execute_result"
    },
    {
     "data": {
      "image/png": "[encoded data removed]",
      "text/plain": [
       "<Figure size 576x1008 with 42 Axes>"
      ]
     },
     "metadata": {
      "needs_background": "light"
     },
     "output_type": "display_data"
    }
   ],
   "source": [
    "#Lets check for outliers\n",
    "dfb.plot(kind=\"box\",subplots=True,figsize=(8,14),layout=(6,7))\n"
   ]
  },
  {
   "cell_type": "code",
   "execution_count": 22,
   "metadata": {},
   "outputs": [],
   "source": [
    "#Lets remove the outliers\n",
    "from scipy.stats import zscore\n",
    "import numpy as np\n",
    "z=np.abs(zscore(dfb))\n",
    "dfb_new=dfb[(z<3).all(axis=1)]"
   ]
  },
  {
   "cell_type": "code",
   "execution_count": 23,
   "metadata": {},
   "outputs": [
    {
     "data": {
      "text/plain": [
       "(29, 14)"
      ]
     },
     "execution_count": 23,
     "metadata": {},
     "output_type": "execute_result"
    }
   ],
   "source": [
    "dfb_new.shape"
   ]
  },
  {
   "cell_type": "code",
   "execution_count": 24,
   "metadata": {},
   "outputs": [
    {
     "data": {
      "text/plain": [
       "(30, 14)"
      ]
     },
     "execution_count": 24,
     "metadata": {},
     "output_type": "execute_result"
    }
   ],
   "source": [
    "dfb.shape"
   ]
  },
  {
   "cell_type": "code",
   "execution_count": 25,
   "metadata": {},
   "outputs": [],
   "source": [
    "dfb=dfb_new"
   ]
  },
  {
   "cell_type": "code",
   "execution_count": 26,
   "metadata": {},
   "outputs": [
    {
     "data": {
      "text/plain": [
       "(29, 14)"
      ]
     },
     "execution_count": 26,
     "metadata": {},
     "output_type": "execute_result"
    }
   ],
   "source": [
    "dfb.shape"
   ]
  },
  {
   "cell_type": "code",
   "execution_count": 27,
   "metadata": {},
   "outputs": [
    {
     "data": {
      "text/plain": [
       "Predicted wins    0.119013\n",
       "Runs             -0.215364\n",
       "At Bats           0.169573\n",
       "Hits              0.783772\n",
       "Doubles          -0.335304\n",
       "Triples           0.090124\n",
       "homeruns          0.450862\n",
       "Walks             0.151193\n",
       "Strikeouts       -0.233815\n",
       "Stolen bases      0.494966\n",
       "CG                0.854980\n",
       "Shutouts          0.526943\n",
       "Saves             0.627480\n",
       "Errors            0.840271\n",
       "dtype: float64"
      ]
     },
     "execution_count": 27,
     "metadata": {},
     "output_type": "execute_result"
    }
   ],
   "source": [
    "#Checking the skewness of the columns\n",
    "dfb.skew()"
   ]
  },
  {
   "cell_type": "code",
   "execution_count": 28,
   "metadata": {},
   "outputs": [],
   "source": [
    "y=dfb.iloc[:,0:1]\n"
   ]
  },
  {
   "cell_type": "code",
   "execution_count": 29,
   "metadata": {},
   "outputs": [],
   "source": [
    "x=dfb.iloc[:,1:]"
   ]
  },
  {
   "cell_type": "code",
   "execution_count": 30,
   "metadata": {},
   "outputs": [
    {
     "data": {
      "text/plain": [
       "array([[ 0.95939835,  0.83008422,  1.73830631,  1.55653766,  1.01084549,\n",
       "        -0.76586314, -1.53635899, -2.72762331,  0.9059529 , -0.50148589,\n",
       "        -0.81326172,  1.64315663, -0.47109143],\n",
       "       [ 0.33114717, -0.70283074, -0.93869788,  0.20117132,  1.20891656,\n",
       "        -0.18138864, -0.49502051,  0.12189552, -0.58531515, -0.50148589,\n",
       "         0.15929869,  0.21100645, -0.61489829],\n",
       "       [-0.27466646, -1.10025314, -0.10665604,  1.73332457, -0.2766165 ,\n",
       "        -0.69710144,  1.25294051, -0.9258657 ,  0.11645805,  2.85461197,\n",
       "        -0.32698152, -0.70036184, -1.1182223 ],\n",
       "       [-1.32923093,  0.23395062, -0.35988616, -0.8006212 , -0.47468758,\n",
       "        -0.8690057 , -1.14585706, -0.20124579, -0.6730368 ,  1.36301292,\n",
       "        -0.57012162, -0.83055731,  0.46365315],\n",
       "       [ 0.17408438,  1.25589393,  2.0638879 ,  0.90831897,  1.70409425,\n",
       "        -0.35329291, -0.19749523,  0.07293472, -0.01512442,  1.36301292,\n",
       "         0.15929869, -1.09094826, -0.61489829],\n",
       "       [ 1.85690002,  0.71653496, -0.07048031, -0.09347354, -1.26697188,\n",
       "         1.74393914,  1.64344245, -0.24041443, -0.89234092, -0.12858612,\n",
       "        -1.78582213,  0.60159287, -0.11157429],\n",
       "       [ 0.71258538, -0.44734492, -0.55885269, -1.6256268 , -1.16793634,\n",
       "         1.9158434 , -0.88552244,  0.7779703 , -1.7256966 , -1.24728541,\n",
       "        -0.32698152, -0.04938449, -1.26202916],\n",
       "       [-0.83560501, -0.44734492, -0.32371043,  0.26010029,  0.02049011,\n",
       "         0.19680075, -0.5508065 ,  0.57233492,  0.16031888, -0.87438565,\n",
       "         0.15929869,  2.16393852,  0.03223257],\n",
       "       [ 1.49789935,  1.75267193,  1.70213058,  1.20296383,  0.11952565,\n",
       "        -0.00948437,  0.23019736, -1.01399515, -0.54145432, -0.12858612,\n",
       "        -0.32698152, -0.4399709 ,  0.17603943],\n",
       "       [ 1.56521198, -0.07830983,  0.32745275,  0.31902926,  0.02049011,\n",
       "         0.36870501,  0.69508061, -0.18166147,  0.77437043,  0.6172134 ,\n",
       "        -0.57012162,  0.21100645,  1.75791488],\n",
       "       [ 1.07158606, -0.81638   , -0.68546775,  0.26010029, -0.57372311,\n",
       "         2.3627945 ,  0.37896   ,  1.37529212,  1.65158693,  0.6172134 ,\n",
       "         0.40243879, -0.57016637, -0.68680172],\n",
       "       [-0.4541668 , -1.4125136 , -1.26427947, -1.80241371, -1.0689008 ,\n",
       "         0.50622842, -0.56940183, -0.99441083, -1.37481   , -0.50148589,\n",
       "         0.15929869,  0.34120192, -0.11157429],\n",
       "       [-0.56635451,  0.39008085, -0.3960619 , -0.68276325, -0.96986526,\n",
       "         1.26260719,  0.23019736,  0.82693111, -0.62917597,  0.99011316,\n",
       "         0.15929869,  0.21100645, -0.03967086],\n",
       "       [ 0.28627209,  1.18492565,  0.07422262,  0.20117132,  1.40698764,\n",
       "        -0.52519717,  0.17441137, -1.29796781, -0.23442855,  0.6172134 ,\n",
       "         0.888719  , -2.00231655,  2.26123888],\n",
       "       [-0.76829238, -0.46153857, -0.26944683,  0.84939   ,  0.71373887,\n",
       "        -0.83462485,  0.7508666 ,  0.151272  , -0.62917597, -0.87438565,\n",
       "         0.888719  ,  2.42432946,  0.104136  ],\n",
       "       [ 0.35358471,  1.62492902,  1.10523099,  1.08510589, -0.47468758,\n",
       "        -0.73148229, -0.08592325,  0.68984085,  0.64278795, -1.24728541,\n",
       "         0.40243879,  1.38276569,  1.97362516],\n",
       "       [ 0.17408438, -0.36218297, -1.08340081, -0.09347354, -0.17758096,\n",
       "         0.33432416,  1.88518174,  2.6091044 ,  0.51120548,  0.99011316,\n",
       "         2.34755961,  0.60159287,  1.18268744],\n",
       "       [-0.58879205, -0.5183132 , -0.41414976,  0.0243844 ,  0.21856119,\n",
       "        -0.55957802, -0.99709442,  0.46462115,  0.0287364 , -0.87438565,\n",
       "        -1.05640183, -0.4399709 ,  1.54220459],\n",
       "       [-0.92535518,  0.77330959, -0.3417983 , -0.97740811, -0.47468758,\n",
       "         0.19680075,  0.5649133 ,  0.03376607,  2.22177765, -0.50148589,\n",
       "        -0.81326172, -1.09094826, -0.32728458],\n",
       "       [ 0.03945913,  0.14878868, -0.90252215,  1.2618928 , -1.46504295,\n",
       "         0.54060928,  0.41615066,  0.3764917 , -1.41867082, -0.87438565,\n",
       "         0.64557889,  0.86198381, -0.47109143],\n",
       "       [ 0.48820996, -1.25638337, -0.68546775, -0.50597634, -1.8611851 ,\n",
       "         0.54060928,  1.3645125 ,  0.9052684 , -1.15550587,  0.24431364,\n",
       "         0.40243879, -0.30977543, -0.32728458],\n",
       "       [-1.53116881, -0.75960537,  0.34554062, -2.21491651,  0.81277441,\n",
       "        -1.41909935, -1.68512163, -0.99441083,  1.2568395 , -1.24728541,\n",
       "         0.15929869, -1.09094826, -1.26202916],\n",
       "       [-2.42867049, -1.36993263, -0.72164349, -1.33098194, -1.36600741,\n",
       "        -2.10671642,  0.10003005, -1.41547375, -0.62917597, -0.12858612,\n",
       "        -0.32698152,  0.08081098, -0.32728458],\n",
       "       [-1.23948077,  0.177176  , -0.48650123, -0.09347354,  0.5156678 ,\n",
       "        -1.07529082, -1.46197767,  0.21981713,  0.2041797 , -0.87438565,\n",
       "        -1.05640183, -1.09094826,  1.61410802],\n",
       "       [-0.31954155, -1.86671063, -0.99296148, -0.62383428, -0.57372311,\n",
       "         0.88441781,  1.81080042,  0.06314255, -1.06778422,  0.99011316,\n",
       "         2.34755961,  0.47139739, -1.40583602],\n",
       "       [ 0.33114717,  0.68814765,  1.53933978,  0.84939   ,  0.71373887,\n",
       "        -0.8690057 , -0.16030457, -0.90628138,  0.42348383,  1.36301292,\n",
       "         1.6181393 , -0.30977543, -1.19012573],\n",
       "       [ 0.86964818,  1.88041485,  1.68404271,  0.90831897,  1.60505871,\n",
       "        -0.25015035,  0.45334132,  0.59191925,  2.134056  , -0.87438565,\n",
       "         0.15929869,  0.08081098, -0.61489829],\n",
       "       [-0.70097976, -0.84476732, -1.39089453, -0.8006212 ,  0.41663226,\n",
       "        -0.45643546, -0.7367598 ,  0.73880166, -0.05898525, -0.87438565,\n",
       "        -1.29954193, -0.30977543, -0.18347772],\n",
       "       [ 1.25108639,  0.78750325,  1.41272472,  0.0243844 ,  1.70409425,\n",
       "         0.85003696, -1.44338234,  0.30794658,  0.59892713,  0.24431364,\n",
       "        -1.78582213, -0.96075279,  0.03223257]])"
      ]
     },
     "execution_count": 30,
     "metadata": {},
     "output_type": "execute_result"
    }
   ],
   "source": [
    "#Applying Standardisation as data is skewed\n",
    "from sklearn.preprocessing import StandardScaler\n",
    "sc=StandardScaler()\n",
    "x=sc.fit_transform(x)\n",
    "x"
   ]
  },
  {
   "cell_type": "code",
   "execution_count": 59,
   "metadata": {},
   "outputs": [
    {
     "name": "stdout",
     "output_type": "stream",
     "text": [
      "r2 score correspoinding to r_state 42 is 0.7325869882954239\n",
      "r2 score correspoinding to r_state 43 is -0.785132393400392\n",
      "r2 score correspoinding to r_state 44 is 0.505751397724524\n",
      "r2 score correspoinding to r_state 45 is 0.21446409391842547\n",
      "r2 score correspoinding to r_state 46 is 0.6841367963679233\n",
      "r2 score correspoinding to r_state 47 is 0.66200465325654\n",
      "r2 score correspoinding to r_state 48 is -0.35207691651225903\n",
      "r2 score correspoinding to r_state 49 is -0.4917060243229805\n",
      "r2 score correspoinding to r_state 50 is 0.7265531287571578\n",
      "r2 score correspoinding to r_state 51 is 0.3349558386238143\n",
      "r2 score correspoinding to r_state 52 is -0.02154290215208743\n",
      "r2 score correspoinding to r_state 53 is 0.3130006661999116\n",
      "r2 score correspoinding to r_state 54 is -0.18284655131955674\n",
      "r2 score correspoinding to r_state 55 is -0.31484172243810904\n",
      "r2 score correspoinding to r_state 56 is 0.18047836223353708\n",
      "r2 score correspoinding to r_state 57 is 0.670075873353501\n",
      "r2 score correspoinding to r_state 58 is 0.4047477818402998\n",
      "r2 score correspoinding to r_state 59 is 0.4429221264294866\n",
      "r2 score correspoinding to r_state 60 is 0.2608656166430068\n",
      "r2 score correspoinding to r_state 61 is 0.502928164750359\n",
      "r2 score correspoinding to r_state 62 is -0.031090254110297755\n",
      "r2 score correspoinding to r_state 63 is 0.13952812252868385\n",
      "r2 score correspoinding to r_state 64 is 0.46400814561503967\n",
      "r2 score correspoinding to r_state 65 is 0.7538782801420253\n",
      "r2 score correspoinding to r_state 66 is 0.7210146928066803\n",
      "r2 score correspoinding to r_state 67 is 0.8321320548469825\n",
      "r2 score correspoinding to r_state 68 is 0.78471781279403\n",
      "r2 score correspoinding to r_state 69 is 0.12354130119097595\n",
      "r2 score correspoinding to r_state 70 is 0.6958272061189398\n",
      "r2 score correspoinding to r_state 71 is -6.010796382798066\n",
      "r2 score correspoinding to r_state 72 is -0.6900367914608749\n",
      "r2 score correspoinding to r_state 73 is 0.8791702487240544\n",
      "r2 score correspoinding to r_state 74 is 0.2550461615438885\n",
      "r2 score correspoinding to r_state 75 is 0.7428052821953891\n",
      "r2 score correspoinding to r_state 76 is 0.5523929049397551\n",
      "r2 score correspoinding to r_state 77 is 0.21179037606698414\n",
      "r2 score correspoinding to r_state 78 is 0.31870473655525977\n",
      "r2 score correspoinding to r_state 79 is 0.5432859483040468\n",
      "r2 score correspoinding to r_state 80 is 0.5632330023237363\n",
      "r2 score correspoinding to r_state 81 is 0.48742117879686386\n",
      "r2 score correspoinding to r_state 82 is 0.3344732291715764\n",
      "r2 score correspoinding to r_state 83 is 0.4722130080923619\n",
      "r2 score correspoinding to r_state 84 is 0.1990381529771491\n",
      "r2 score correspoinding to r_state 85 is 0.7893782333370674\n",
      "r2 score correspoinding to r_state 86 is -0.038472387499508764\n",
      "r2 score correspoinding to r_state 87 is 0.12233063151756862\n",
      "r2 score correspoinding to r_state 88 is -1.194983193563035\n",
      "r2 score correspoinding to r_state 89 is 0.49504606817632635\n",
      "r2 score correspoinding to r_state 90 is 0.6457271273652938\n",
      "r2 score correspoinding to r_state 91 is 0.34602773076079973\n",
      "r2 score correspoinding to r_state 92 is -0.17684740005734967\n",
      "r2 score correspoinding to r_state 93 is -1.1110697849929863\n",
      "r2 score correspoinding to r_state 94 is 0.5435932779463453\n",
      "r2 score correspoinding to r_state 95 is 0.5741575596601447\n",
      "r2 score correspoinding to r_state 96 is 0.8434824829756234\n",
      "r2 score correspoinding to r_state 97 is 0.88910199243456\n",
      "r2 score correspoinding to r_state 98 is 0.14481790705283648\n",
      "r2 score correspoinding to r_state 99 is 0.7730018720170757\n",
      "r2 score correspoinding to r_state 100 is 0.15852958412367035\n",
      "97\n",
      "0.88910199243456\n"
     ]
    }
   ],
   "source": [
    "from sklearn.model_selection import train_test_split\n",
    "from sklearn.metrics import mean_absolute_error,mean_squared_error,r2_score\n",
    "from sklearn.linear_model import LinearRegression\n",
    "max_r_score=0\n",
    "for r_state in range(42,101):\n",
    "    x_train,x_test,y_train,y_test=train_test_split(x,y,random_state=r_state,test_size=0.20)\n",
    "    lr=LinearRegression()\n",
    "    lr.fit(x_train,y_train)\n",
    "    y_pred=lr.predict(x_test)\n",
    "    r2_scr=r2_score(y_test,y_pred)\n",
    "    print(\"r2 score correspoinding to r_state\",r_state ,\"is\",r2_scr)\n",
    "    if r2_scr>max_r_score:\n",
    "        max_r_score=r2_scr\n",
    "        final_r_state=r_state\n",
    "        \n",
    "print(final_r_state)\n",
    "print(max_r_score)"
   ]
  },
  {
   "cell_type": "code",
   "execution_count": 67,
   "metadata": {},
   "outputs": [
    {
     "name": "stdout",
     "output_type": "stream",
     "text": [
      "Mean absolute error: 2.809165600454371\n",
      "Mean squared error: 12.731707368554543\n",
      "Root Mean squared error: 3.5681518141125306\n",
      "r2_score: 0.88910199243456\n"
     ]
    }
   ],
   "source": [
    "x_train,x_test,y_train,y_test=train_test_split(x,y,test_size=.2,random_state=97)\n",
    "lr.fit(x_train,y_train)\n",
    "y_pred=lr.predict(x_test)\n",
    "import numpy as np\n",
    "from sklearn.metrics import r2_score\n",
    "print(\"Mean absolute error:\",mean_absolute_error(y_test,y_pred))\n",
    "print(\"Mean squared error:\",mean_squared_error(y_test,y_pred))\n",
    "print(\"Root Mean squared error:\",np.sqrt(mean_squared_error(y_test,y_pred)))\n",
    "print(\"r2_score:\",r2_score(y_test,y_pred))"
   ]
  },
  {
   "cell_type": "code",
   "execution_count": 62,
   "metadata": {},
   "outputs": [
    {
     "name": "stdout",
     "output_type": "stream",
     "text": [
      "GridSearchCV(cv=None, error_score=nan,\n",
      "             estimator=Lasso(alpha=1.0, copy_X=True, fit_intercept=True,\n",
      "                             max_iter=1000, normalize=False, positive=False,\n",
      "                             precompute=False, random_state=None,\n",
      "                             selection='cyclic', tol=0.0001, warm_start=False),\n",
      "             iid='deprecated', n_jobs=None,\n",
      "             param_grid={'alpha': [1, 0.1, 0.01, 0.0001, 0.001, 0]},\n",
      "             pre_dispatch='2*n_jobs', refit=True, return_train_score=False,\n",
      "             scoring=None, verbose=0)\n",
      "0.4623717769812729\n",
      "1\n",
      "{'alpha': 1}\n"
     ]
    }
   ],
   "source": [
    "from sklearn.linear_model import Lasso\n",
    "from sklearn.model_selection import GridSearchCV\n",
    "import warnings\n",
    "warnings.filterwarnings('ignore')\n",
    "alphavalue={'alpha':[1,0.1,0.01,0.0001,0.001,0]}\n",
    "model=Lasso()\n",
    "grid=GridSearchCV(estimator=model,param_grid=alphavalue)\n",
    "grid.fit(x_train,y_train)\n",
    "print(grid)\n",
    "print(grid.best_score_)\n",
    "print(grid.best_estimator_.alpha)\n",
    "print(grid.best_params_)"
   ]
  },
  {
   "cell_type": "code",
   "execution_count": 68,
   "metadata": {},
   "outputs": [
    {
     "name": "stdout",
     "output_type": "stream",
     "text": [
      "Mean absolute error: 4.885540826843449\n",
      "Mean squared error: 30.538323416398786\n",
      "Root Mean squared error: 5.526149058467278\n",
      "r2_score: 0.7339996024702743\n"
     ]
    }
   ],
   "source": [
    "ls=Lasso(alpha=1)\n",
    "ls.fit(x_train,y_train)\n",
    "y_pred=ls.predict(x_test)\n",
    "import numpy as np\n",
    "from sklearn.metrics import r2_score\n",
    "print(\"Mean absolute error:\",mean_absolute_error(y_test,y_pred))\n",
    "print(\"Mean squared error:\",mean_squared_error(y_test,y_pred))\n",
    "print(\"Root Mean squared error:\",np.sqrt(mean_squared_error(y_test,y_pred)))\n",
    "print(\"r2_score:\",r2_score(y_test,y_pred))"
   ]
  },
  {
   "cell_type": "code",
   "execution_count": 63,
   "metadata": {},
   "outputs": [
    {
     "name": "stdout",
     "output_type": "stream",
     "text": [
      "GridSearchCV(cv=None, error_score=nan,\n",
      "             estimator=Ridge(alpha=1.0, copy_X=True, fit_intercept=True,\n",
      "                             max_iter=None, normalize=False, random_state=None,\n",
      "                             solver='auto', tol=0.001),\n",
      "             iid='deprecated', n_jobs=None,\n",
      "             param_grid={'alpha': [1, 0.1, 0.01, 0.0001, 0.001, 0]},\n",
      "             pre_dispatch='2*n_jobs', refit=True, return_train_score=False,\n",
      "             scoring=None, verbose=0)\n",
      "0.056126264464115415\n",
      "1\n",
      "{'alpha': 1}\n"
     ]
    }
   ],
   "source": [
    "from sklearn.linear_model import Ridge\n",
    "from sklearn.model_selection import GridSearchCV\n",
    "import warnings\n",
    "warnings.filterwarnings('ignore')\n",
    "alphavalue={'alpha':[1,0.1,0.01,0.0001,0.001,0]}\n",
    "model=Ridge()\n",
    "grid=GridSearchCV(estimator=model,param_grid=alphavalue)\n",
    "grid.fit(x_train,y_train)\n",
    "print(grid)\n",
    "print(grid.best_score_)\n",
    "print(grid.best_estimator_.alpha)\n",
    "print(grid.best_params_)"
   ]
  },
  {
   "cell_type": "code",
   "execution_count": 69,
   "metadata": {},
   "outputs": [
    {
     "name": "stdout",
     "output_type": "stream",
     "text": [
      "0.3833785627873212\n"
     ]
    }
   ],
   "source": [
    "from sklearn.ensemble import RandomForestRegressor\n",
    "rfr=RandomForestRegressor(n_estimators=100,random_state=45)\n",
    "rfr.fit(x_train,y_train)\n",
    "predrf=rfr.predict(x_test)\n",
    "print(r2_score(y_test,predrf))"
   ]
  },
  {
   "cell_type": "code",
   "execution_count": 70,
   "metadata": {},
   "outputs": [
    {
     "name": "stdout",
     "output_type": "stream",
     "text": [
      "0.45783692233244666\n"
     ]
    }
   ],
   "source": [
    "from sklearn.ensemble import AdaBoostRegressor\n",
    "adr=AdaBoostRegressor(n_estimators=50)\n",
    "adr.fit(x_train,y_train)\n",
    "predad=adr.predict(x_test)\n",
    "print(r2_score(y_test,predad))"
   ]
  },
  {
   "cell_type": "code",
   "execution_count": 71,
   "metadata": {},
   "outputs": [
    {
     "name": "stdout",
     "output_type": "stream",
     "text": [
      "-0.18214509051943617\n",
      "1.1035286346922608\n",
      "0.13242306548015764\n",
      "0.7708638423438158\n",
      "-0.1319051090639229\n",
      "1.0217494048455134\n",
      "-0.08689085481820369\n",
      "0.7527029977287923\n",
      "-0.2692066734281674\n",
      "1.225060694508738\n"
     ]
    }
   ],
   "source": [
    "from sklearn.model_selection import cross_val_score\n",
    "model=[LinearRegression(),Lasso(),Ridge(),RandomForestRegressor(),AdaBoostRegressor()]\n",
    "for m in model:\n",
    "    score=cross_val_score(m,x,y,cv=8)\n",
    "    print(score.mean())\n",
    "    print(score.std())"
   ]
  },
  {
   "cell_type": "code",
   "execution_count": null,
   "metadata": {},
   "outputs": [],
   "source": [
    "# as per the above model lasso is the most fitting model\n",
    "from sklearn.externals import joblib\n",
    "joblib.dump(ls,'ls.baseball.pkl')"
   ]
  },
  {
   "cell_type": "code",
   "execution_count": null,
   "metadata": {},
   "outputs": [],
   "source": []
  },
  {
   "cell_type": "code",
   "execution_count": null,
   "metadata": {},
   "outputs": [],
   "source": []
  },
  {
   "cell_type": "code",
   "execution_count": null,
   "metadata": {},
   "outputs": [],
   "source": []
  },
  {
   "cell_type": "code",
   "execution_count": null,
   "metadata": {},
   "outputs": [],
   "source": []
  },
  {
   "cell_type": "code",
   "execution_count": null,
   "metadata": {},
   "outputs": [],
   "source": []
  },
  {
   "cell_type": "code",
   "execution_count": null,
   "metadata": {},
   "outputs": [],
   "source": []
  },
  {
   "cell_type": "code",
   "execution_count": null,
   "metadata": {},
   "outputs": [],
   "source": []
  },
  {
   "cell_type": "code",
   "execution_count": null,
   "metadata": {},
   "outputs": [],
   "source": []
  },
  {
   "cell_type": "code",
   "execution_count": null,
   "metadata": {},
   "outputs": [],
   "source": []
  },
  {
   "cell_type": "code",
   "execution_count": null,
   "metadata": {},
   "outputs": [],
   "source": []
  },
  {
   "cell_type": "code",
   "execution_count": null,
   "metadata": {},
   "outputs": [],
   "source": []
  },
  {
   "cell_type": "code",
   "execution_count": null,
   "metadata": {},
   "outputs": [],
   "source": [
    "\n"
   ]
  },
  {
   "cell_type": "code",
   "execution_count": null,
   "metadata": {},
   "outputs": [],
   "source": []
  },
  {
   "cell_type": "code",
   "execution_count": null,
   "metadata": {},
   "outputs": [],
   "source": []
  },
  {
   "cell_type": "code",
   "execution_count": null,
   "metadata": {},
   "outputs": [],
   "source": []
  },
  {
   "cell_type": "code",
   "execution_count": null,
   "metadata": {},
   "outputs": [],
   "source": []
  },
  {
   "cell_type": "code",
   "execution_count": null,
   "metadata": {},
   "outputs": [],
   "source": []
  },
  {
   "cell_type": "code",
   "execution_count": null,
   "metadata": {},
   "outputs": [],
   "source": []
  },
  {
   "cell_type": "code",
   "execution_count": null,
   "metadata": {},
   "outputs": [],
   "source": []
  },
  {
   "cell_type": "code",
   "execution_count": null,
   "metadata": {},
   "outputs": [],
   "source": []
  },
  {
   "cell_type": "code",
   "execution_count": null,
   "metadata": {},
   "outputs": [],
   "source": []
  },
  {
   "cell_type": "code",
   "execution_count": null,
   "metadata": {},
   "outputs": [],
   "source": []
  },
  {
   "cell_type": "code",
   "execution_count": null,
   "metadata": {},
   "outputs": [],
   "source": []
  }
 ],
 "metadata": {
  "kernelspec": {
   "display_name": "Python 3",
   "language": "python",
   "name": "python3"
  },
  "language_info": {
   "codemirror_mode": {
    "name": "ipython",
    "version": 3
   },
   "file_extension": ".py",
   "mimetype": "text/x-python",
   "name": "python",
   "nbconvert_exporter": "python",
   "pygments_lexer": "ipython3",
   "version": "3.7.6"
  }
 },
 "nbformat": 4,
 "nbformat_minor": 4
}
