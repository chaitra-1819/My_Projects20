{
 "cells": [
  {
   "cell_type": "code",
   "execution_count": 1,
   "metadata": {},
   "outputs": [
    {
     "name": "stderr",
     "output_type": "stream",
     "text": [
      "E:\\python\\lib\\site-packages\\sklearn\\externals\\joblib\\__init__.py:15: FutureWarning: sklearn.externals.joblib is deprecated in 0.21 and will be removed in 0.23. Please import this functionality directly from joblib, which can be installed with: pip install joblib. If this warning is raised when loading pickled models, you may need to re-serialize those models with scikit-learn 0.21+.\n",
      "  warnings.warn(msg, category=FutureWarning)\n"
     ]
    }
   ],
   "source": [
    "#loading all the libraries\n",
    "import numpy as np\n",
    "import pandas as pd\n",
    "import seaborn as sns\n",
    "from scipy.stats import zscore\n",
    "import matplotlib.pyplot as plt\n",
    "from sklearn.preprocessing import StandardScaler\n",
    "from sklearn.model_selection import train_test_split,cross_val_score\n",
    "from sklearn.metrics import mean_absolute_error,mean_squared_error,r2_score\n",
    "from sklearn.linear_model import LinearRegression,Lasso,Ridge\n",
    "from sklearn.preprocessing import LabelEncoder\n",
    "from sklearn.externals import joblib\n",
    "import warnings\n",
    "warnings.filterwarnings('ignore')"
   ]
  },
  {
   "cell_type": "code",
   "execution_count": 2,
   "metadata": {},
   "outputs": [],
   "source": [
    "dcr=pd.read_csv(\"coviddata.csv\",index_col=\"Province_State\")"
   ]
  },
  {
   "cell_type": "code",
   "execution_count": 3,
   "metadata": {},
   "outputs": [
    {
     "data": {
      "text/html": [
       "<div>\n",
       "<style scoped>\n",
       "    .dataframe tbody tr th:only-of-type {\n",
       "        vertical-align: middle;\n",
       "    }\n",
       "\n",
       "    .dataframe tbody tr th {\n",
       "        vertical-align: top;\n",
       "    }\n",
       "\n",
       "    .dataframe thead th {\n",
       "        text-align: right;\n",
       "    }\n",
       "</style>\n",
       "<table border=\"1\" class=\"dataframe\">\n",
       "  <thead>\n",
       "    <tr style=\"text-align: right;\">\n",
       "      <th></th>\n",
       "      <th>Country_Region</th>\n",
       "      <th>Last_Update</th>\n",
       "      <th>Lat</th>\n",
       "      <th>Long_</th>\n",
       "      <th>Confirmed</th>\n",
       "      <th>Deaths</th>\n",
       "      <th>Recovered</th>\n",
       "      <th>Active</th>\n",
       "      <th>FIPS</th>\n",
       "      <th>Incident_Rate</th>\n",
       "      <th>People_Tested</th>\n",
       "      <th>People_Hospitalized</th>\n",
       "      <th>Mortality_Rate</th>\n",
       "      <th>UID</th>\n",
       "      <th>ISO3</th>\n",
       "      <th>Testing_Rate</th>\n",
       "      <th>Hospitalization_Rate</th>\n",
       "    </tr>\n",
       "    <tr>\n",
       "      <th>Province_State</th>\n",
       "      <th></th>\n",
       "      <th></th>\n",
       "      <th></th>\n",
       "      <th></th>\n",
       "      <th></th>\n",
       "      <th></th>\n",
       "      <th></th>\n",
       "      <th></th>\n",
       "      <th></th>\n",
       "      <th></th>\n",
       "      <th></th>\n",
       "      <th></th>\n",
       "      <th></th>\n",
       "      <th></th>\n",
       "      <th></th>\n",
       "      <th></th>\n",
       "      <th></th>\n",
       "    </tr>\n",
       "  </thead>\n",
       "  <tbody>\n",
       "    <tr>\n",
       "      <th>Alabama</th>\n",
       "      <td>US</td>\n",
       "      <td>2020-05-21 02:32:54</td>\n",
       "      <td>32.3182</td>\n",
       "      <td>-86.9023</td>\n",
       "      <td>13052</td>\n",
       "      <td>522</td>\n",
       "      <td>NaN</td>\n",
       "      <td>12530.0</td>\n",
       "      <td>1</td>\n",
       "      <td>266.194321</td>\n",
       "      <td>164450.0</td>\n",
       "      <td>1493.0</td>\n",
       "      <td>3.999387</td>\n",
       "      <td>84000001</td>\n",
       "      <td>USA</td>\n",
       "      <td>3353.942386</td>\n",
       "      <td>11.438860</td>\n",
       "    </tr>\n",
       "    <tr>\n",
       "      <th>Alaska</th>\n",
       "      <td>US</td>\n",
       "      <td>2020-05-21 02:32:54</td>\n",
       "      <td>61.3707</td>\n",
       "      <td>-152.4044</td>\n",
       "      <td>401</td>\n",
       "      <td>10</td>\n",
       "      <td>352.0</td>\n",
       "      <td>39.0</td>\n",
       "      <td>2</td>\n",
       "      <td>54.815493</td>\n",
       "      <td>37045.0</td>\n",
       "      <td>NaN</td>\n",
       "      <td>2.493766</td>\n",
       "      <td>84000002</td>\n",
       "      <td>USA</td>\n",
       "      <td>5063.940017</td>\n",
       "      <td>NaN</td>\n",
       "    </tr>\n",
       "    <tr>\n",
       "      <th>American Samoa</th>\n",
       "      <td>US</td>\n",
       "      <td>2020-05-21 02:32:54</td>\n",
       "      <td>-14.2710</td>\n",
       "      <td>-170.1320</td>\n",
       "      <td>0</td>\n",
       "      <td>0</td>\n",
       "      <td>NaN</td>\n",
       "      <td>0.0</td>\n",
       "      <td>60</td>\n",
       "      <td>0.000000</td>\n",
       "      <td>124.0</td>\n",
       "      <td>NaN</td>\n",
       "      <td>NaN</td>\n",
       "      <td>16</td>\n",
       "      <td>ASM</td>\n",
       "      <td>222.857246</td>\n",
       "      <td>NaN</td>\n",
       "    </tr>\n",
       "    <tr>\n",
       "      <th>Arizona</th>\n",
       "      <td>US</td>\n",
       "      <td>2020-05-21 02:32:54</td>\n",
       "      <td>33.7298</td>\n",
       "      <td>-111.4312</td>\n",
       "      <td>14906</td>\n",
       "      <td>747</td>\n",
       "      <td>3773.0</td>\n",
       "      <td>10386.0</td>\n",
       "      <td>4</td>\n",
       "      <td>204.788838</td>\n",
       "      <td>165435.0</td>\n",
       "      <td>1792.0</td>\n",
       "      <td>5.011405</td>\n",
       "      <td>84000004</td>\n",
       "      <td>USA</td>\n",
       "      <td>2272.859351</td>\n",
       "      <td>12.022005</td>\n",
       "    </tr>\n",
       "    <tr>\n",
       "      <th>Arkansas</th>\n",
       "      <td>US</td>\n",
       "      <td>2020-05-21 02:32:54</td>\n",
       "      <td>34.9697</td>\n",
       "      <td>-92.3731</td>\n",
       "      <td>5003</td>\n",
       "      <td>107</td>\n",
       "      <td>3852.0</td>\n",
       "      <td>1044.0</td>\n",
       "      <td>5</td>\n",
       "      <td>165.782801</td>\n",
       "      <td>96258.0</td>\n",
       "      <td>535.0</td>\n",
       "      <td>2.138717</td>\n",
       "      <td>84000005</td>\n",
       "      <td>USA</td>\n",
       "      <td>3189.670370</td>\n",
       "      <td>10.693584</td>\n",
       "    </tr>\n",
       "  </tbody>\n",
       "</table>\n",
       "</div>"
      ],
      "text/plain": [
       "               Country_Region          Last_Update      Lat     Long_  \\\n",
       "Province_State                                                          \n",
       "Alabama                    US  2020-05-21 02:32:54  32.3182  -86.9023   \n",
       "Alaska                     US  2020-05-21 02:32:54  61.3707 -152.4044   \n",
       "American Samoa             US  2020-05-21 02:32:54 -14.2710 -170.1320   \n",
       "Arizona                    US  2020-05-21 02:32:54  33.7298 -111.4312   \n",
       "Arkansas                   US  2020-05-21 02:32:54  34.9697  -92.3731   \n",
       "\n",
       "                Confirmed  Deaths  Recovered   Active  FIPS  Incident_Rate  \\\n",
       "Province_State                                                               \n",
       "Alabama             13052     522        NaN  12530.0     1     266.194321   \n",
       "Alaska                401      10      352.0     39.0     2      54.815493   \n",
       "American Samoa          0       0        NaN      0.0    60       0.000000   \n",
       "Arizona             14906     747     3773.0  10386.0     4     204.788838   \n",
       "Arkansas             5003     107     3852.0   1044.0     5     165.782801   \n",
       "\n",
       "                People_Tested  People_Hospitalized  Mortality_Rate       UID  \\\n",
       "Province_State                                                                 \n",
       "Alabama              164450.0               1493.0        3.999387  84000001   \n",
       "Alaska                37045.0                  NaN        2.493766  84000002   \n",
       "American Samoa          124.0                  NaN             NaN        16   \n",
       "Arizona              165435.0               1792.0        5.011405  84000004   \n",
       "Arkansas              96258.0                535.0        2.138717  84000005   \n",
       "\n",
       "               ISO3  Testing_Rate  Hospitalization_Rate  \n",
       "Province_State                                           \n",
       "Alabama         USA   3353.942386             11.438860  \n",
       "Alaska          USA   5063.940017                   NaN  \n",
       "American Samoa  ASM    222.857246                   NaN  \n",
       "Arizona         USA   2272.859351             12.022005  \n",
       "Arkansas        USA   3189.670370             10.693584  "
      ]
     },
     "execution_count": 3,
     "metadata": {},
     "output_type": "execute_result"
    }
   ],
   "source": [
    "dcr.head()"
   ]
  },
  {
   "cell_type": "code",
   "execution_count": 4,
   "metadata": {},
   "outputs": [
    {
     "data": {
      "text/plain": [
       "Country_Region           0\n",
       "Last_Update              0\n",
       "Lat                      2\n",
       "Long_                    2\n",
       "Confirmed                0\n",
       "Deaths                   0\n",
       "Recovered               16\n",
       "Active                   0\n",
       "FIPS                     0\n",
       "Incident_Rate            2\n",
       "People_Tested            2\n",
       "People_Hospitalized     25\n",
       "Mortality_Rate           1\n",
       "UID                      0\n",
       "ISO3                     0\n",
       "Testing_Rate             2\n",
       "Hospitalization_Rate    25\n",
       "dtype: int64"
      ]
     },
     "execution_count": 4,
     "metadata": {},
     "output_type": "execute_result"
    }
   ],
   "source": [
    "dcr.isnull().sum()"
   ]
  },
  {
   "cell_type": "code",
   "execution_count": 5,
   "metadata": {},
   "outputs": [
    {
     "data": {
      "text/plain": [
       "Country_Region           object\n",
       "Last_Update              object\n",
       "Lat                     float64\n",
       "Long_                   float64\n",
       "Confirmed                 int64\n",
       "Deaths                    int64\n",
       "Recovered               float64\n",
       "Active                  float64\n",
       "FIPS                      int64\n",
       "Incident_Rate           float64\n",
       "People_Tested           float64\n",
       "People_Hospitalized     float64\n",
       "Mortality_Rate          float64\n",
       "UID                       int64\n",
       "ISO3                     object\n",
       "Testing_Rate            float64\n",
       "Hospitalization_Rate    float64\n",
       "dtype: object"
      ]
     },
     "execution_count": 5,
     "metadata": {},
     "output_type": "execute_result"
    }
   ],
   "source": [
    "dcr.dtypes"
   ]
  },
  {
   "cell_type": "code",
   "execution_count": 6,
   "metadata": {},
   "outputs": [],
   "source": [
    "#Removing null values in each column\n",
    "for col in dcr.columns:\n",
    "    if dcr[col].dtype==object:\n",
    "        dcr[col].fillna(dcr[col].mode().values[0],inplace=True)\n",
    "    else :\n",
    "         dcr[col].fillna(0,inplace=True)"
   ]
  },
  {
   "cell_type": "code",
   "execution_count": 7,
   "metadata": {},
   "outputs": [
    {
     "data": {
      "text/plain": [
       "Country_Region          0\n",
       "Last_Update             0\n",
       "Lat                     0\n",
       "Long_                   0\n",
       "Confirmed               0\n",
       "Deaths                  0\n",
       "Recovered               0\n",
       "Active                  0\n",
       "FIPS                    0\n",
       "Incident_Rate           0\n",
       "People_Tested           0\n",
       "People_Hospitalized     0\n",
       "Mortality_Rate          0\n",
       "UID                     0\n",
       "ISO3                    0\n",
       "Testing_Rate            0\n",
       "Hospitalization_Rate    0\n",
       "dtype: int64"
      ]
     },
     "execution_count": 7,
     "metadata": {},
     "output_type": "execute_result"
    }
   ],
   "source": [
    "dcr.isnull().sum()"
   ]
  },
  {
   "cell_type": "code",
   "execution_count": 8,
   "metadata": {},
   "outputs": [
    {
     "data": {
      "text/plain": [
       "(58,)"
      ]
     },
     "execution_count": 8,
     "metadata": {},
     "output_type": "execute_result"
    }
   ],
   "source": [
    "dcr['UID'].shape"
   ]
  },
  {
   "cell_type": "code",
   "execution_count": 9,
   "metadata": {},
   "outputs": [
    {
     "data": {
      "text/plain": [
       "(58, 17)"
      ]
     },
     "execution_count": 9,
     "metadata": {},
     "output_type": "execute_result"
    }
   ],
   "source": [
    "dcr.shape \n"
   ]
  },
  {
   "cell_type": "code",
   "execution_count": 10,
   "metadata": {},
   "outputs": [],
   "source": [
    "dcr.drop('UID',axis=1,inplace=True)"
   ]
  },
  {
   "cell_type": "code",
   "execution_count": 11,
   "metadata": {},
   "outputs": [
    {
     "data": {
      "text/plain": [
       "array(['US'], dtype=object)"
      ]
     },
     "execution_count": 11,
     "metadata": {},
     "output_type": "execute_result"
    }
   ],
   "source": [
    "dcr['Country_Region'].unique()"
   ]
  },
  {
   "cell_type": "code",
   "execution_count": 12,
   "metadata": {},
   "outputs": [],
   "source": [
    "dcr.drop('Country_Region',axis=1,inplace=True)"
   ]
  },
  {
   "cell_type": "code",
   "execution_count": 13,
   "metadata": {},
   "outputs": [
    {
     "data": {
      "text/plain": [
       "array(['2020-05-21 02:32:54'], dtype=object)"
      ]
     },
     "execution_count": 13,
     "metadata": {},
     "output_type": "execute_result"
    }
   ],
   "source": [
    "dcr['Last_Update'].unique()"
   ]
  },
  {
   "cell_type": "code",
   "execution_count": 14,
   "metadata": {},
   "outputs": [],
   "source": [
    "dcr.drop('Last_Update',axis=1,inplace=True)"
   ]
  },
  {
   "cell_type": "code",
   "execution_count": 15,
   "metadata": {},
   "outputs": [],
   "source": [
    "dcr.drop('Lat',axis=1,inplace=True)"
   ]
  },
  {
   "cell_type": "code",
   "execution_count": 16,
   "metadata": {},
   "outputs": [],
   "source": [
    "dcr.drop('Long_',axis=1,inplace=True)"
   ]
  },
  {
   "cell_type": "code",
   "execution_count": 17,
   "metadata": {},
   "outputs": [
    {
     "data": {
      "text/html": [
       "<div>\n",
       "<style scoped>\n",
       "    .dataframe tbody tr th:only-of-type {\n",
       "        vertical-align: middle;\n",
       "    }\n",
       "\n",
       "    .dataframe tbody tr th {\n",
       "        vertical-align: top;\n",
       "    }\n",
       "\n",
       "    .dataframe thead th {\n",
       "        text-align: right;\n",
       "    }\n",
       "</style>\n",
       "<table border=\"1\" class=\"dataframe\">\n",
       "  <thead>\n",
       "    <tr style=\"text-align: right;\">\n",
       "      <th></th>\n",
       "      <th>Confirmed</th>\n",
       "      <th>Deaths</th>\n",
       "      <th>Recovered</th>\n",
       "      <th>Active</th>\n",
       "      <th>FIPS</th>\n",
       "      <th>Incident_Rate</th>\n",
       "      <th>People_Tested</th>\n",
       "      <th>People_Hospitalized</th>\n",
       "      <th>Mortality_Rate</th>\n",
       "      <th>ISO3</th>\n",
       "      <th>Testing_Rate</th>\n",
       "      <th>Hospitalization_Rate</th>\n",
       "    </tr>\n",
       "    <tr>\n",
       "      <th>Province_State</th>\n",
       "      <th></th>\n",
       "      <th></th>\n",
       "      <th></th>\n",
       "      <th></th>\n",
       "      <th></th>\n",
       "      <th></th>\n",
       "      <th></th>\n",
       "      <th></th>\n",
       "      <th></th>\n",
       "      <th></th>\n",
       "      <th></th>\n",
       "      <th></th>\n",
       "    </tr>\n",
       "  </thead>\n",
       "  <tbody>\n",
       "    <tr>\n",
       "      <th>Alabama</th>\n",
       "      <td>13052</td>\n",
       "      <td>522</td>\n",
       "      <td>0.0</td>\n",
       "      <td>12530.0</td>\n",
       "      <td>1</td>\n",
       "      <td>266.194321</td>\n",
       "      <td>164450.0</td>\n",
       "      <td>1493.0</td>\n",
       "      <td>3.999387</td>\n",
       "      <td>USA</td>\n",
       "      <td>3353.942386</td>\n",
       "      <td>11.438860</td>\n",
       "    </tr>\n",
       "    <tr>\n",
       "      <th>Alaska</th>\n",
       "      <td>401</td>\n",
       "      <td>10</td>\n",
       "      <td>352.0</td>\n",
       "      <td>39.0</td>\n",
       "      <td>2</td>\n",
       "      <td>54.815493</td>\n",
       "      <td>37045.0</td>\n",
       "      <td>0.0</td>\n",
       "      <td>2.493766</td>\n",
       "      <td>USA</td>\n",
       "      <td>5063.940017</td>\n",
       "      <td>0.000000</td>\n",
       "    </tr>\n",
       "    <tr>\n",
       "      <th>American Samoa</th>\n",
       "      <td>0</td>\n",
       "      <td>0</td>\n",
       "      <td>0.0</td>\n",
       "      <td>0.0</td>\n",
       "      <td>60</td>\n",
       "      <td>0.000000</td>\n",
       "      <td>124.0</td>\n",
       "      <td>0.0</td>\n",
       "      <td>0.000000</td>\n",
       "      <td>ASM</td>\n",
       "      <td>222.857246</td>\n",
       "      <td>0.000000</td>\n",
       "    </tr>\n",
       "    <tr>\n",
       "      <th>Arizona</th>\n",
       "      <td>14906</td>\n",
       "      <td>747</td>\n",
       "      <td>3773.0</td>\n",
       "      <td>10386.0</td>\n",
       "      <td>4</td>\n",
       "      <td>204.788838</td>\n",
       "      <td>165435.0</td>\n",
       "      <td>1792.0</td>\n",
       "      <td>5.011405</td>\n",
       "      <td>USA</td>\n",
       "      <td>2272.859351</td>\n",
       "      <td>12.022005</td>\n",
       "    </tr>\n",
       "    <tr>\n",
       "      <th>Arkansas</th>\n",
       "      <td>5003</td>\n",
       "      <td>107</td>\n",
       "      <td>3852.0</td>\n",
       "      <td>1044.0</td>\n",
       "      <td>5</td>\n",
       "      <td>165.782801</td>\n",
       "      <td>96258.0</td>\n",
       "      <td>535.0</td>\n",
       "      <td>2.138717</td>\n",
       "      <td>USA</td>\n",
       "      <td>3189.670370</td>\n",
       "      <td>10.693584</td>\n",
       "    </tr>\n",
       "  </tbody>\n",
       "</table>\n",
       "</div>"
      ],
      "text/plain": [
       "                Confirmed  Deaths  Recovered   Active  FIPS  Incident_Rate  \\\n",
       "Province_State                                                               \n",
       "Alabama             13052     522        0.0  12530.0     1     266.194321   \n",
       "Alaska                401      10      352.0     39.0     2      54.815493   \n",
       "American Samoa          0       0        0.0      0.0    60       0.000000   \n",
       "Arizona             14906     747     3773.0  10386.0     4     204.788838   \n",
       "Arkansas             5003     107     3852.0   1044.0     5     165.782801   \n",
       "\n",
       "                People_Tested  People_Hospitalized  Mortality_Rate ISO3  \\\n",
       "Province_State                                                            \n",
       "Alabama              164450.0               1493.0        3.999387  USA   \n",
       "Alaska                37045.0                  0.0        2.493766  USA   \n",
       "American Samoa          124.0                  0.0        0.000000  ASM   \n",
       "Arizona              165435.0               1792.0        5.011405  USA   \n",
       "Arkansas              96258.0                535.0        2.138717  USA   \n",
       "\n",
       "                Testing_Rate  Hospitalization_Rate  \n",
       "Province_State                                      \n",
       "Alabama          3353.942386             11.438860  \n",
       "Alaska           5063.940017              0.000000  \n",
       "American Samoa    222.857246              0.000000  \n",
       "Arizona          2272.859351             12.022005  \n",
       "Arkansas         3189.670370             10.693584  "
      ]
     },
     "execution_count": 17,
     "metadata": {},
     "output_type": "execute_result"
    }
   ],
   "source": [
    "dcr.head()"
   ]
  },
  {
   "cell_type": "code",
   "execution_count": 18,
   "metadata": {},
   "outputs": [
    {
     "data": {
      "text/plain": [
       "<matplotlib.axes._subplots.AxesSubplot at 0x2416cd2c048>"
      ]
     },
     "execution_count": 18,
     "metadata": {},
     "output_type": "execute_result"
    },
    {
     "data": {
      "image/png": "[encoded data removed]",
      "text/plain": [
       "<Figure size 432x288 with 2 Axes>"
      ]
     },
     "metadata": {
      "needs_background": "light"
     },
     "output_type": "display_data"
    }
   ],
   "source": [
    "sns.heatmap(dcr.corr(),annot=True)"
   ]
  },
  {
   "cell_type": "code",
   "execution_count": 19,
   "metadata": {
    "scrolled": true
   },
   "outputs": [
    {
     "data": {
      "text/plain": [
       "Confirmed                  AxesSubplot(0.125,0.772143;0.0945122x0.107857)\n",
       "Deaths                  AxesSubplot(0.238415,0.772143;0.0945122x0.107857)\n",
       "Recovered               AxesSubplot(0.351829,0.772143;0.0945122x0.107857)\n",
       "Active                  AxesSubplot(0.465244,0.772143;0.0945122x0.107857)\n",
       "FIPS                    AxesSubplot(0.578659,0.772143;0.0945122x0.107857)\n",
       "Incident_Rate           AxesSubplot(0.692073,0.772143;0.0945122x0.107857)\n",
       "People_Tested           AxesSubplot(0.805488,0.772143;0.0945122x0.107857)\n",
       "People_Hospitalized        AxesSubplot(0.125,0.642714;0.0945122x0.107857)\n",
       "Mortality_Rate          AxesSubplot(0.238415,0.642714;0.0945122x0.107857)\n",
       "Testing_Rate            AxesSubplot(0.351829,0.642714;0.0945122x0.107857)\n",
       "Hospitalization_Rate    AxesSubplot(0.465244,0.642714;0.0945122x0.107857)\n",
       "dtype: object"
      ]
     },
     "execution_count": 19,
     "metadata": {},
     "output_type": "execute_result"
    },
    {
     "data": {
      "image/png": "[encoded data removed]",
      "text/plain": [
       "<Figure size 576x1008 with 42 Axes>"
      ]
     },
     "metadata": {
      "needs_background": "light"
     },
     "output_type": "display_data"
    }
   ],
   "source": [
    "dcr.plot(kind=\"box\",subplots=True,figsize=(8,14),layout=(6,7))"
   ]
  },
  {
   "cell_type": "code",
   "execution_count": 20,
   "metadata": {},
   "outputs": [],
   "source": [
    "le=LabelEncoder()\n",
    "for col in dcr.columns:\n",
    "    if dcr[col].dtype==object:\n",
    "        dcr[col]=le.fit_transform(dcr[col])"
   ]
  },
  {
   "cell_type": "code",
   "execution_count": 21,
   "metadata": {},
   "outputs": [],
   "source": [
    "z=np.abs(zscore(dcr))\n",
    "dcr_new=dcr[(z<3).all(axis=1)]"
   ]
  },
  {
   "cell_type": "code",
   "execution_count": 22,
   "metadata": {},
   "outputs": [
    {
     "data": {
      "text/plain": [
       "(50, 12)"
      ]
     },
     "execution_count": 22,
     "metadata": {},
     "output_type": "execute_result"
    }
   ],
   "source": [
    "dcr_new.shape"
   ]
  },
  {
   "cell_type": "code",
   "execution_count": 23,
   "metadata": {
    "scrolled": true
   },
   "outputs": [
    {
     "data": {
      "text/plain": [
       "Confirmed               1.907220\n",
       "Deaths                  2.083006\n",
       "Recovered               2.676530\n",
       "Active                  2.461362\n",
       "FIPS                    0.428779\n",
       "Incident_Rate           1.615604\n",
       "People_Tested           1.794226\n",
       "People_Hospitalized     1.957835\n",
       "Mortality_Rate          0.629389\n",
       "ISO3                   -3.688563\n",
       "Testing_Rate            0.705405\n",
       "Hospitalization_Rate    0.274608\n",
       "dtype: float64"
      ]
     },
     "execution_count": 23,
     "metadata": {},
     "output_type": "execute_result"
    }
   ],
   "source": [
    "dcr_new.skew()"
   ]
  },
  {
   "cell_type": "code",
   "execution_count": 24,
   "metadata": {},
   "outputs": [],
   "source": [
    "dcr1=dcr_new"
   ]
  },
  {
   "cell_type": "code",
   "execution_count": 25,
   "metadata": {},
   "outputs": [],
   "source": [
    "y=pd.DataFrame()\n",
    "y['Deaths']=dcr_new['Deaths']"
   ]
  },
  {
   "cell_type": "code",
   "execution_count": 26,
   "metadata": {},
   "outputs": [],
   "source": [
    "dcr_new.drop('Deaths',axis=1,inplace=True)"
   ]
  },
  {
   "cell_type": "code",
   "execution_count": 27,
   "metadata": {},
   "outputs": [
    {
     "data": {
      "text/plain": [
       "array([[-2.62440976e-01, -6.00199739e-01, -6.16674630e-02,\n",
       "        -1.64369051e+00, -2.67235287e-01, -9.74603648e-02,\n",
       "        -6.63108776e-02, -2.40420493e-01,  1.16247639e-01,\n",
       "        -2.44886109e-01,  3.31860313e-01],\n",
       "       [-8.26231660e-01, -5.49248506e-01, -6.70966699e-01,\n",
       "        -1.58983433e+00, -1.01287086e+00, -8.01074830e-01,\n",
       "        -6.12077913e-01, -9.73567051e-01,  1.16247639e-01,\n",
       "         8.84813011e-01, -1.11342183e+00],\n",
       "       [-1.79817632e-01, -5.40662065e-02, -1.66249767e-01,\n",
       "        -1.48212198e+00, -4.83842184e-01, -9.20205449e-02,\n",
       "         4.29887498e-02,  2.52370908e-01,  1.16247639e-01,\n",
       "        -9.59096779e-01,  4.05539727e-01],\n",
       "       [-6.21143941e-01, -4.26311285e-02, -6.21943744e-01,\n",
       "        -1.42826580e+00, -6.21435383e-01, -4.74061579e-01,\n",
       "        -4.16508346e-01, -1.14645434e+00,  1.16247639e-01,\n",
       "        -3.53411378e-01,  2.37695838e-01],\n",
       "       [ 1.71844078e-01, -9.67668140e-02,  2.06129575e-01,\n",
       "        -1.26669727e+00,  1.90187055e-01, -2.77570867e-01,\n",
       "         8.33674683e-01,  5.86758767e-01,  1.16247639e-01,\n",
       "        -9.48209479e-01,  1.07856875e+00],\n",
       "       [ 8.94686928e-01,  3.06500618e-01,  7.52650162e-01,\n",
       "        -1.21284109e+00,  2.65409904e+00,  4.76088616e-02,\n",
       "         3.38923888e+00,  2.21637831e+00,  1.16247639e-01,\n",
       "         1.07333618e+00,  2.43121271e+00],\n",
       "       [-4.78937312e-01, -2.62746247e-02, -4.81703947e-01,\n",
       "        -1.15898492e+00,  1.76206551e+00, -7.54866736e-01,\n",
       "        -6.12077913e-01, -3.45663225e-01,  1.16247639e-01,\n",
       "         6.20299845e-01, -1.11342183e+00],\n",
       "       [-5.07592549e-01, -4.46911795e-01, -3.76048504e-01,\n",
       "        -1.10512874e+00,  2.56791986e+00, -7.82441376e-01,\n",
       "        -6.12077913e-01,  4.36730954e-01,  1.16247639e-01,\n",
       "         1.32293005e+00, -1.11342183e+00],\n",
       "       [ 1.27143868e+00, -6.00199739e-01,  1.54048076e+00,\n",
       "        -1.05127257e+00, -4.26572136e-01,  3.25423079e+00,\n",
       "         2.65375109e+00, -3.78827911e-02,  1.16247639e-01,\n",
       "        -8.80218399e-02,  1.26444464e+00],\n",
       "       [ 9.29625818e-01, -6.00199739e-01,  1.18580821e+00,\n",
       "        -9.97416389e-01,  1.16098777e-01,  1.21963876e+00,\n",
       "         1.98589015e+00, -1.11710261e-01,  1.16247639e-01,\n",
       "         4.65505522e-02,  1.14269833e+00],\n",
       "       [-8.15446951e-01, -5.16535498e-01, -6.70527688e-01,\n",
       "        -8.89704036e-01, -1.04603551e+00, -7.49940524e-01,\n",
       "        -5.82102765e-01, -9.00481653e-01,  1.16247639e-01,\n",
       "        -3.00109488e-01,  4.97864690e-01],\n",
       "       [-7.32422523e-01, -3.58760372e-01, -6.35748218e-01,\n",
       "        -8.35847859e-01, -7.11572743e-01, -7.92669342e-01,\n",
       "        -5.33484536e-01, -6.91697202e-01,  1.16247639e-01,\n",
       "        -1.03489887e+00, -2.94268096e-02],\n",
       "       [ 3.63101700e+00, -6.00199739e-01,  4.00470130e+00,\n",
       "        -7.81991683e-01,  1.58912785e+00,  2.54382346e+00,\n",
       "        -6.12077913e-01,  6.34932219e-03,  1.16247639e-01,\n",
       "         8.90128606e-01, -1.11342183e+00],\n",
       "       [ 4.60491004e-01, -6.00199739e-01,  6.64164947e-01,\n",
       "        -7.28135506e-01,  3.27639792e-01,  7.53326135e-02,\n",
       "         9.92323641e-01,  9.12670701e-01,  1.16247639e-01,\n",
       "        -5.39837886e-01,  7.80898441e-01],\n",
       "       [-1.47998285e-01,  6.10181549e-01, -3.38000837e-01,\n",
       "        -6.74279330e-01,  5.40141958e-01, -3.94038239e-01,\n",
       "        -6.12077913e-01, -9.62737742e-01,  1.16247639e-01,\n",
       "        -1.41682038e-01, -1.11342183e+00],\n",
       "       [-4.64988495e-01, -5.31734019e-01, -2.90831486e-01,\n",
       "        -6.20423153e-01, -1.76191241e-01, -6.12431819e-01,\n",
       "        -3.34259463e-01, -1.03163482e+00,  1.16247639e-01,\n",
       "        -8.45997377e-01,  1.53523156e-02],\n",
       "       [-4.80140564e-01, -1.91142394e-01, -4.30681051e-01,\n",
       "        -5.66566977e-01, -5.61400072e-01, -1.55249476e-01,\n",
       "         1.22678779e-01,  5.39376679e-02,  1.16247639e-01,\n",
       "        -1.83625384e-01,  1.99617007e+00],\n",
       "       [ 7.29752194e-01,  3.19928584e+00, -3.57805135e-01,\n",
       "        -5.12710800e-01,  1.47353105e+00,  5.73653248e-01,\n",
       "        -6.12077913e-01,  1.40804874e+00,  1.16247639e-01,\n",
       "         1.60329464e+00, -1.11342183e+00],\n",
       "       [-7.63038617e-01, -4.40977135e-01, -6.41357810e-01,\n",
       "        -4.58854624e-01, -7.28889213e-01, -7.99837755e-01,\n",
       "        -5.27635726e-01, -2.33697322e-01,  1.16247639e-01,\n",
       "        -6.28976845e-01,  4.91113097e-01],\n",
       "       [ 1.04201852e+00, -1.66969508e-01,  1.14205340e+00,\n",
       "        -4.04998447e-01,  1.26319664e+00,  1.83532563e-01,\n",
       "         2.09043762e+00,  2.54698600e-01,  1.16247639e-01,\n",
       "        -1.07621259e-01,  1.09363825e+00],\n",
       "       [ 3.12083791e+00, -6.00199739e-01,  3.37111009e+00,\n",
       "        -3.51142271e-01,  3.34712595e+00,  1.70018195e+00,\n",
       "         2.64022572e+00,  1.13208735e+00,  1.16247639e-01,\n",
       "         2.23553312e+00,  1.50062599e-01],\n",
       "       [ 1.51823916e+00,  3.48661027e+00,  2.88810082e-01,\n",
       "        -2.97286094e-01,  6.66113498e-01,  1.40813818e+00,\n",
       "        -6.12077913e-01,  2.46022471e+00,  1.16247639e-01,\n",
       "         4.30641612e-01, -1.11342183e+00],\n",
       "       [-5.66402188e-02,  1.16963188e+00, -4.45705001e-01,\n",
       "        -2.43429918e-01, -1.01006117e-01, -8.15109234e-02,\n",
       "         2.31612856e-01, -2.18673196e-02,  1.16247639e-01,\n",
       "        -5.00398618e-01,  5.36901918e-01],\n",
       "       [-3.10793904e-01,  5.11608282e-01, -4.91606096e-01,\n",
       "        -1.89573741e-01,  2.12158637e-01, -3.39187182e-01,\n",
       "         8.28337644e-02,  1.31460773e-01,  1.16247639e-01,\n",
       "         2.18200084e-01,  8.93667584e-01],\n",
       "       [-3.30357900e-01, -6.00199739e-01, -1.41762679e-01,\n",
       "        -1.35717565e-01, -5.43660261e-01, -1.11079244e-01,\n",
       "        -6.12077913e-01,  5.15462077e-01,  1.16247639e-01,\n",
       "        -7.17022323e-01, -1.11342183e+00],\n",
       "       [-8.22800162e-01, -5.36510697e-01, -6.71795943e-01,\n",
       "        -8.18613883e-02, -1.04846854e+00, -8.41495177e-01,\n",
       "        -5.88317125e-01, -5.57957013e-01,  1.16247639e-01,\n",
       "        -6.23193890e-01,  6.04705532e-01],\n",
       "       [-3.48451253e-01, -6.00199739e-01, -1.37079890e-01,\n",
       "        -2.80052118e-02,  8.21917739e-01, -6.07284700e-01,\n",
       "        -6.12077913e-01, -1.58369325e+00,  1.16247639e-01,\n",
       "         2.92494552e-03, -1.11342183e+00],\n",
       "       [-5.14856630e-01, -5.51564471e-01, -3.47268858e-01,\n",
       "         2.58509647e-02, -3.60136321e-01, -5.02155349e-01,\n",
       "        -6.12077913e-01,  2.96908690e-01,  1.16247639e-01,\n",
       "        -5.05176350e-01, -1.11342183e+00],\n",
       "       [-6.71725115e-01, -4.15646266e-01, -5.55653002e-01,\n",
       "         7.97071412e-02, -2.02760295e-01, -7.24624651e-01,\n",
       "        -4.72072036e-01,  2.04015125e-01,  1.16247639e-01,\n",
       "         1.18516596e-02,  1.37649877e-01],\n",
       "       [-5.62585649e-01, -3.27784338e-01, -4.70338426e-01,\n",
       "         1.87419494e-01, -1.43526003e-01, -2.20085502e-01,\n",
       "        -1.95715788e-01, -6.40340979e-03,  1.16247639e-01,\n",
       "         2.02106904e+00,  1.16473040e+00],\n",
       "       [ 5.88720295e-02,  1.08423067e+00, -2.87563289e-01,\n",
       "         2.95131847e-01, -5.24754537e-01,  5.27445154e-01,\n",
       "        -6.12077913e-01, -4.43145663e-01,  1.16247639e-01,\n",
       "        -7.12027585e-01, -1.11342183e+00],\n",
       "       [-7.50738701e-01, -4.11738075e-01, -6.36577462e-01,\n",
       "         3.48988024e-01, -2.36483754e-01, -6.78720304e-01,\n",
       "        -5.60169729e-01, -1.04897617e+00,  1.16247639e-01,\n",
       "         2.67149528e+00, -2.57026657e-01],\n",
       "       [-8.43166326e-01, -5.98318017e-01, -6.72576408e-01,\n",
       "         2.01852949e+00, -1.07189760e+00, -9.84581769e-01,\n",
       "        -6.12077913e-01,  2.44963897e+00, -5.69613430e+00,\n",
       "         2.11224751e+00, -1.11342183e+00],\n",
       "       [ 4.67710519e-01, -6.00199739e-01,  6.76115817e-01,\n",
       "         4.02844200e-01, -3.17925141e-01,  5.93302872e-01,\n",
       "         1.28805407e+00,  7.58305741e-01,  1.16247639e-01,\n",
       "        -8.24294760e-01,  1.11772101e+00],\n",
       "       [-5.97569104e-01,  1.72944698e-02, -6.25699732e-01,\n",
       "         4.56700377e-01, -7.13075538e-01, -2.08349850e-01,\n",
       "        -2.81254627e-01,  4.43987462e-01,  1.16247639e-01,\n",
       "        -5.02732402e-02,  9.53558302e-01],\n",
       "       [-6.74710964e-01, -3.96684301e-01, -5.63067419e-01,\n",
       "         5.10556553e-01, -8.88336809e-01, -4.41527590e-01,\n",
       "        -3.47784834e-01, -3.43121072e-01,  1.16247639e-01,\n",
       "        -8.60639850e-01,  1.28989110e+00],\n",
       "       [ 2.19192691e+00, -6.00199739e-01,  2.41757703e+00,\n",
       "         5.64412730e-01,  6.70925232e-01,  9.25612354e-01,\n",
       "        -6.12077913e-01,  1.22153986e+00,  1.16247639e-01,\n",
       "        -6.56028189e-01, -1.11342183e+00],\n",
       "       [-7.16379155e-01, -6.00199739e-01, -5.39165680e-01,\n",
       "         2.18009802e+00, -8.61589158e-01, -9.89833818e-01,\n",
       "        -6.12077913e-01, -6.41034302e-02, -2.78994333e+00,\n",
       "        -2.39610069e+00, -1.11342183e+00],\n",
       "       [-4.35219134e-01,  1.88820639e-01, -5.11068941e-01,\n",
       "         7.25981259e-01, -5.77634476e-01, -2.59754767e-01,\n",
       "        -8.42228567e-02, -2.78323357e-02,  1.16247639e-01,\n",
       "        -7.27621625e-01,  8.75102984e-01],\n",
       "       [-6.57954557e-01, -1.62627073e-01, -6.18821884e-01,\n",
       "         7.79837436e-01,  4.59303122e-01, -8.37833654e-01,\n",
       "        -4.90349566e-01, -1.65162870e+00,  1.16247639e-01,\n",
       "        -1.91263968e-01, -1.06143126e-01],\n",
       "       [-2.35730551e-02,  1.10536385e+00, -3.64390308e-01,\n",
       "         8.33693612e-01, -2.55193557e-01,  9.49431586e-01,\n",
       "        -5.82687646e-02, -1.38125092e+00,  1.16247639e-01,\n",
       "         9.64019790e-01, -7.37852295e-02],\n",
       "       [ 1.45870044e+00,  3.79159393e+00,  2.98126882e-01,\n",
       "         8.87549789e-01, -5.77605436e-01,  3.24811721e+00,\n",
       "        -6.12077913e-01, -8.44091723e-01,  1.16247639e-01,\n",
       "        -7.05725795e-01, -1.11342183e+00],\n",
       "       [-5.00506728e-01,  4.00198778e-02, -5.16922428e-01,\n",
       "         9.41405965e-01, -3.57907808e-01, -1.34386193e-02,\n",
       "        -3.81415489e-01, -1.61946814e+00,  1.16247639e-01,\n",
       "         1.24164378e+00, -7.93638868e-02],\n",
       "       [-8.02032913e-01, -4.80927534e-01, -6.69649665e-01,\n",
       "         9.95262142e-01, -6.72577148e-01, -8.67274953e-01,\n",
       "        -6.12077913e-01,  5.97578957e-01,  1.16247639e-01,\n",
       "         1.92350029e-01, -1.11342183e+00],\n",
       "       [-8.41027210e-01, -5.91370122e-01, -6.72771525e-01,\n",
       "         2.50323508e+00, -9.79326684e-01, -9.98023922e-01,\n",
       "        -6.12077913e-01,  2.04637645e+00,  3.02243861e+00,\n",
       "        -1.60888294e+00, -1.11342183e+00],\n",
       "       [ 6.22439889e-01,  5.44946600e-02,  6.59287041e-01,\n",
       "         1.04911832e+00,  1.53761381e-01,  1.68599291e-01,\n",
       "         1.60279313e+00, -5.97203100e-01,  1.16247639e-01,\n",
       "        -8.14935383e-01,  1.21289766e+00],\n",
       "       [ 1.33872991e-03, -6.00199739e-01,  2.01934576e-01,\n",
       "         1.15683067e+00, -3.27428626e-01,  6.13140265e-01,\n",
       "        -6.12077913e-01,  4.73847125e-01,  1.16247639e-01,\n",
       "         8.23681042e-02, -1.11342183e+00],\n",
       "       [-7.74268974e-01, -4.62689308e-01, -6.46138158e-01,\n",
       "         1.21068685e+00, -8.97798910e-01, -5.60308956e-01,\n",
       "        -6.12077913e-01, -4.37303547e-02,  1.16247639e-01,\n",
       "         5.12042618e-01, -1.11342183e+00],\n",
       "       [-2.46353043e-01,  5.18411430e-01, -4.19022855e-01,\n",
       "         1.26454302e+00, -3.93613584e-01, -7.94399260e-02,\n",
       "         1.77876919e-01, -4.41679331e-01,  1.16247639e-01,\n",
       "        -5.57687919e-01,  9.22207673e-01],\n",
       "       [-8.09029604e-01, -5.23772889e-01, -6.60771876e-01,\n",
       "         1.31839920e+00, -7.26562166e-01, -9.01614851e-01,\n",
       "        -5.85027170e-01, -1.50727842e+00,  1.16247639e-01,\n",
       "        -3.10092585e-01,  7.46067306e-02]])"
      ]
     },
     "execution_count": 27,
     "metadata": {},
     "output_type": "execute_result"
    }
   ],
   "source": [
    "sc=StandardScaler()\n",
    "x=sc.fit_transform(dcr_new)\n",
    "x"
   ]
  },
  {
   "cell_type": "code",
   "execution_count": 28,
   "metadata": {},
   "outputs": [
    {
     "name": "stdout",
     "output_type": "stream",
     "text": [
      "r2 score correspoinding to r_state 42 is 1.0\n",
      "r2 score correspoinding to r_state 43 is 1.0\n",
      "r2 score correspoinding to r_state 44 is 1.0\n",
      "r2 score correspoinding to r_state 45 is 1.0\n",
      "r2 score correspoinding to r_state 46 is 1.0\n",
      "r2 score correspoinding to r_state 47 is 1.0\n",
      "r2 score correspoinding to r_state 48 is 1.0\n",
      "r2 score correspoinding to r_state 49 is 1.0\n",
      "r2 score correspoinding to r_state 50 is 1.0\n",
      "r2 score correspoinding to r_state 51 is 1.0\n",
      "r2 score correspoinding to r_state 52 is 1.0\n",
      "r2 score correspoinding to r_state 53 is 1.0\n",
      "r2 score correspoinding to r_state 54 is 1.0\n",
      "r2 score correspoinding to r_state 55 is 1.0\n",
      "r2 score correspoinding to r_state 56 is 1.0\n",
      "r2 score correspoinding to r_state 57 is 1.0\n",
      "r2 score correspoinding to r_state 58 is 1.0\n",
      "r2 score correspoinding to r_state 59 is 1.0\n",
      "r2 score correspoinding to r_state 60 is 1.0\n",
      "r2 score correspoinding to r_state 61 is 1.0\n",
      "r2 score correspoinding to r_state 62 is 1.0\n",
      "r2 score correspoinding to r_state 63 is 1.0\n",
      "r2 score correspoinding to r_state 64 is 1.0\n",
      "r2 score correspoinding to r_state 65 is 1.0\n",
      "r2 score correspoinding to r_state 66 is 1.0\n",
      "r2 score correspoinding to r_state 67 is 1.0\n",
      "r2 score correspoinding to r_state 68 is 1.0\n",
      "r2 score correspoinding to r_state 69 is 1.0\n",
      "r2 score correspoinding to r_state 70 is 1.0\n",
      "r2 score correspoinding to r_state 71 is 1.0\n",
      "r2 score correspoinding to r_state 72 is 1.0\n",
      "r2 score correspoinding to r_state 73 is 1.0\n",
      "r2 score correspoinding to r_state 74 is 1.0\n",
      "r2 score correspoinding to r_state 75 is 1.0\n",
      "r2 score correspoinding to r_state 76 is 1.0\n",
      "r2 score correspoinding to r_state 77 is 1.0\n",
      "r2 score correspoinding to r_state 78 is 1.0\n",
      "r2 score correspoinding to r_state 79 is 1.0\n",
      "r2 score correspoinding to r_state 80 is 1.0\n",
      "r2 score correspoinding to r_state 81 is 1.0\n",
      "r2 score correspoinding to r_state 82 is 1.0\n",
      "r2 score correspoinding to r_state 83 is 1.0\n",
      "r2 score correspoinding to r_state 84 is 1.0\n",
      "r2 score correspoinding to r_state 85 is 1.0\n",
      "r2 score correspoinding to r_state 86 is 1.0\n",
      "r2 score correspoinding to r_state 87 is 1.0\n",
      "r2 score correspoinding to r_state 88 is 1.0\n",
      "r2 score correspoinding to r_state 89 is 1.0\n",
      "r2 score correspoinding to r_state 90 is 1.0\n",
      "r2 score correspoinding to r_state 91 is 1.0\n",
      "r2 score correspoinding to r_state 92 is 1.0\n",
      "r2 score correspoinding to r_state 93 is 1.0\n",
      "r2 score correspoinding to r_state 94 is 1.0\n",
      "r2 score correspoinding to r_state 95 is 1.0\n",
      "r2 score correspoinding to r_state 96 is 1.0\n",
      "r2 score correspoinding to r_state 97 is 1.0\n",
      "r2 score correspoinding to r_state 98 is 1.0\n",
      "r2 score correspoinding to r_state 99 is 1.0\n",
      "r2 score correspoinding to r_state 100 is 1.0\n",
      "42\n",
      "1.0\n"
     ]
    }
   ],
   "source": [
    "#Lets check for covid deaths\n",
    "max_r_score=0\n",
    "for r_state in range(42,101):\n",
    "    x_train,x_test,y_train,y_test=train_test_split(x,y,random_state=r_state,test_size=0.20)\n",
    "    lr=LinearRegression()\n",
    "    lr.fit(x_train,y_train)\n",
    "    y_pred=lr.predict(x_test)\n",
    "    r2_scr=r2_score(y_test,y_pred)\n",
    "    print(\"r2 score correspoinding to r_state\",r_state ,\"is\",r2_scr)\n",
    "    if r2_scr>max_r_score:\n",
    "        max_r_score=r2_scr\n",
    "        final_r_state=r_state\n",
    "        \n",
    "print(final_r_state)\n",
    "print(max_r_score)"
   ]
  },
  {
   "cell_type": "code",
   "execution_count": 29,
   "metadata": {},
   "outputs": [
    {
     "name": "stdout",
     "output_type": "stream",
     "text": [
      "Mean absolute error: 6.048139766789973e-12\n",
      "Mean squared error: 5.60208069851538e-23\n",
      "Root Mean squared error: 7.484704869609342e-12\n",
      "r2_score: 1.0\n"
     ]
    }
   ],
   "source": [
    "x_train,x_test,y_train,y_test=train_test_split(x,y,test_size=.2,random_state=42)\n",
    "lr.fit(x_train,y_train)\n",
    "y_pred=lr.predict(x_test)\n",
    "print(\"Mean absolute error:\",mean_absolute_error(y_test,y_pred))\n",
    "print(\"Mean squared error:\",mean_squared_error(y_test,y_pred))\n",
    "print(\"Root Mean squared error:\",np.sqrt(mean_squared_error(y_test,y_pred)))\n",
    "print(\"r2_score:\",r2_score(y_test,y_pred))"
   ]
  },
  {
   "cell_type": "code",
   "execution_count": 30,
   "metadata": {},
   "outputs": [
    {
     "name": "stdout",
     "output_type": "stream",
     "text": [
      "Mean absolute error: 513.8345859839658\n",
      "Mean squared error: 685006.7950580912\n",
      "Root Mean squared error: 827.6513728968805\n",
      "r2_score: 0.1918226917418615\n"
     ]
    }
   ],
   "source": [
    "ls=Lasso()\n",
    "ls.fit(x_train,y_train)\n",
    "y_pred=ls.predict(x_test)\n",
    "import numpy as np\n",
    "from sklearn.metrics import r2_score\n",
    "print(\"Mean absolute error:\",mean_absolute_error(y_test,y_pred))\n",
    "print(\"Mean squared error:\",mean_squared_error(y_test,y_pred))\n",
    "print(\"Root Mean squared error:\",np.sqrt(mean_squared_error(y_test,y_pred)))\n",
    "print(\"r2_score:\",r2_score(y_test,y_pred))"
   ]
  },
  {
   "cell_type": "code",
   "execution_count": 31,
   "metadata": {},
   "outputs": [
    {
     "name": "stdout",
     "output_type": "stream",
     "text": [
      "0.7953969140840181\n"
     ]
    }
   ],
   "source": [
    "from sklearn.ensemble import RandomForestRegressor\n",
    "rfr=RandomForestRegressor(n_estimators=100,random_state=45)\n",
    "rfr.fit(x_train,y_train)\n",
    "predrf=rfr.predict(x_test)\n",
    "print(r2_score(y_test,predrf))"
   ]
  },
  {
   "cell_type": "code",
   "execution_count": 32,
   "metadata": {},
   "outputs": [
    {
     "name": "stdout",
     "output_type": "stream",
     "text": [
      "0.6799681793481227\n"
     ]
    }
   ],
   "source": [
    "from sklearn.ensemble import AdaBoostRegressor\n",
    "adr=AdaBoostRegressor(n_estimators=50)\n",
    "adr.fit(x_train,y_train)\n",
    "predad=adr.predict(x_test)\n",
    "print(r2_score(y_test,predad))"
   ]
  },
  {
   "cell_type": "code",
   "execution_count": 33,
   "metadata": {},
   "outputs": [
    {
     "name": "stdout",
     "output_type": "stream",
     "text": [
      "1.0\n",
      "0.0\n",
      "***************\n",
      "0.4592028018514276\n",
      "0.7635254911233481\n",
      "***************\n",
      "0.2594986691934499\n",
      "0.9328832994105664\n",
      "***************\n",
      "-0.5253179993947444\n",
      "3.1023039571233517\n",
      "***************\n"
     ]
    }
   ],
   "source": [
    "from sklearn.model_selection import cross_val_score\n",
    "model=[LinearRegression(),Lasso(),RandomForestRegressor(),AdaBoostRegressor()]\n",
    "for m in model:\n",
    "    score=cross_val_score(m,x,y,cv=8,scoring='r2')\n",
    "    print(score.mean())\n",
    "    print(score.std())\n",
    "    print('***************')"
   ]
  },
  {
   "cell_type": "code",
   "execution_count": 38,
   "metadata": {},
   "outputs": [
    {
     "data": {
      "text/plain": [
       "['Model_coviddeaths.csv']"
      ]
     },
     "execution_count": 38,
     "metadata": {},
     "output_type": "execute_result"
    }
   ],
   "source": [
    "joblib.dump(lr,'Model_coviddeaths.csv')"
   ]
  },
  {
   "cell_type": "code",
   "execution_count": 39,
   "metadata": {},
   "outputs": [
    {
     "data": {
      "text/plain": [
       "array([[1.864e+03],\n",
       "       [4.600e+01],\n",
       "       [7.260e+02],\n",
       "       [1.075e+03],\n",
       "       [2.608e+03],\n",
       "       [4.810e+02],\n",
       "       [1.380e+02],\n",
       "       [1.600e+01],\n",
       "       [2.000e+00],\n",
       "       [2.123e+03]])"
      ]
     },
     "execution_count": 39,
     "metadata": {},
     "output_type": "execute_result"
    }
   ],
   "source": [
    "model=joblib.load('Model_coviddeaths.csv')\n",
    "model.predict(x_test)"
   ]
  },
  {
   "cell_type": "code",
   "execution_count": 40,
   "metadata": {},
   "outputs": [],
   "source": [
    "x=pd.DataFrame(model.predict(x_test))"
   ]
  },
  {
   "cell_type": "code",
   "execution_count": 41,
   "metadata": {
    "scrolled": true
   },
   "outputs": [
    {
     "data": {
      "text/html": [
       "<div>\n",
       "<style scoped>\n",
       "    .dataframe tbody tr th:only-of-type {\n",
       "        vertical-align: middle;\n",
       "    }\n",
       "\n",
       "    .dataframe tbody tr th {\n",
       "        vertical-align: top;\n",
       "    }\n",
       "\n",
       "    .dataframe thead th {\n",
       "        text-align: right;\n",
       "    }\n",
       "</style>\n",
       "<table border=\"1\" class=\"dataframe\">\n",
       "  <thead>\n",
       "    <tr style=\"text-align: right;\">\n",
       "      <th></th>\n",
       "      <th>0</th>\n",
       "    </tr>\n",
       "  </thead>\n",
       "  <tbody>\n",
       "    <tr>\n",
       "      <th>0</th>\n",
       "      <td>1864.0</td>\n",
       "    </tr>\n",
       "    <tr>\n",
       "      <th>1</th>\n",
       "      <td>46.0</td>\n",
       "    </tr>\n",
       "    <tr>\n",
       "      <th>2</th>\n",
       "      <td>726.0</td>\n",
       "    </tr>\n",
       "    <tr>\n",
       "      <th>3</th>\n",
       "      <td>1075.0</td>\n",
       "    </tr>\n",
       "    <tr>\n",
       "      <th>4</th>\n",
       "      <td>2608.0</td>\n",
       "    </tr>\n",
       "    <tr>\n",
       "      <th>5</th>\n",
       "      <td>481.0</td>\n",
       "    </tr>\n",
       "    <tr>\n",
       "      <th>6</th>\n",
       "      <td>138.0</td>\n",
       "    </tr>\n",
       "    <tr>\n",
       "      <th>7</th>\n",
       "      <td>16.0</td>\n",
       "    </tr>\n",
       "    <tr>\n",
       "      <th>8</th>\n",
       "      <td>2.0</td>\n",
       "    </tr>\n",
       "    <tr>\n",
       "      <th>9</th>\n",
       "      <td>2123.0</td>\n",
       "    </tr>\n",
       "  </tbody>\n",
       "</table>\n",
       "</div>"
      ],
      "text/plain": [
       "        0\n",
       "0  1864.0\n",
       "1    46.0\n",
       "2   726.0\n",
       "3  1075.0\n",
       "4  2608.0\n",
       "5   481.0\n",
       "6   138.0\n",
       "7    16.0\n",
       "8     2.0\n",
       "9  2123.0"
      ]
     },
     "execution_count": 41,
     "metadata": {},
     "output_type": "execute_result"
    }
   ],
   "source": [
    "x"
   ]
  },
  {
   "cell_type": "code",
   "execution_count": null,
   "metadata": {},
   "outputs": [],
   "source": [
    "#Conclusion:\n",
    "#After analysing the data i have removed the null values by replacing 0 for int datatype columns and mode value for object datatype\n",
    "#I have dropped the Lat long and Country and UID as there are unique and it doesn't add the value in analysis\n",
    "#As per the box plot there were outliers present so i have used outliers\n",
    "#As per the correlation heatmap there were not much negatively correlating with deaths column\n",
    "#As there is skewness in data i have used standard scaling technique to the data\n",
    "#As per analysis of models, Linearregression is the best model for this dataset as it having high r2score and cross val score"
   ]
  },
  {
   "cell_type": "code",
   "execution_count": null,
   "metadata": {},
   "outputs": [],
   "source": []
  },
  {
   "cell_type": "code",
   "execution_count": null,
   "metadata": {},
   "outputs": [],
   "source": []
  }
 ],
 "metadata": {
  "kernelspec": {
   "display_name": "Python 3",
   "language": "python",
   "name": "python3"
  },
  "language_info": {
   "codemirror_mode": {
    "name": "ipython",
    "version": 3
   },
   "file_extension": ".py",
   "mimetype": "text/x-python",
   "name": "python",
   "nbconvert_exporter": "python",
   "pygments_lexer": "ipython3",
   "version": "3.7.6"
  }
 },
 "nbformat": 4,
 "nbformat_minor": 4
}
